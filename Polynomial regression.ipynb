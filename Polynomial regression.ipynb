{
 "cells": [
  {
   "cell_type": "code",
   "execution_count": 1,
   "metadata": {},
   "outputs": [],
   "source": [
    "import numpy as np"
   ]
  },
  {
   "cell_type": "code",
   "execution_count": 10,
   "metadata": {},
   "outputs": [],
   "source": [
    "x = np.array([258,270,294,320,342,368,396,446,480,586])[:,np.newaxis]\n",
    "y = np.array([236.4,234.4,252.8,298.6,314.2,342.2,360.8,368,391.2,390.8])"
   ]
  },
  {
   "cell_type": "code",
   "execution_count": 11,
   "metadata": {},
   "outputs": [],
   "source": [
    "from sklearn.linear_model import LinearRegression"
   ]
  },
  {
   "cell_type": "code",
   "execution_count": 12,
   "metadata": {},
   "outputs": [
    {
     "data": {
      "text/plain": [
       "LinearRegression(copy_X=True, fit_intercept=True, n_jobs=None,\n",
       "         normalize=False)"
      ]
     },
     "execution_count": 12,
     "metadata": {},
     "output_type": "execute_result"
    }
   ],
   "source": [
    "lr = LinearRegression()\n",
    "lr.fit(x,y)"
   ]
  },
  {
   "cell_type": "code",
   "execution_count": 38,
   "metadata": {},
   "outputs": [],
   "source": [
    "from sklearn.preprocessing import PolynomialFeatures\n",
    "p1 = PolynomialFeatures(degree = 2)\n",
    "p2 = PolynomialFeatures(degree = 3)\n",
    "p3 = PolynomialFeatures(degree = 4)\n",
    "x_pl = pl.fit_transform(x)  \n",
    "x_p2 = p2.fit_transform(x)\n",
    "x_p3 = p3.fit_transform(x)\n",
    "#x_p4 = p4.fit_transform(x)"
   ]
  },
  {
   "cell_type": "code",
   "execution_count": 39,
   "metadata": {},
   "outputs": [
    {
     "data": {
      "text/plain": [
       "LinearRegression(copy_X=True, fit_intercept=True, n_jobs=None,\n",
       "         normalize=False)"
      ]
     },
     "execution_count": 39,
     "metadata": {},
     "output_type": "execute_result"
    }
   ],
   "source": [
    "pr = LinearRegression()\n",
    "pr.fit(x_pl,y)\n",
    "pr2 = LinearRegression()\n",
    "pr2.fit(x_p2,y)\n",
    "pr3 = LinearRegression()\n",
    "pr3.fit(x_p3,y)"
   ]
  },
  {
   "cell_type": "code",
   "execution_count": 40,
   "metadata": {},
   "outputs": [
    {
     "data": {
      "text/plain": [
       "array([[1.00000e+00, 2.58000e+02, 6.65640e+04],\n",
       "       [1.00000e+00, 2.70000e+02, 7.29000e+04],\n",
       "       [1.00000e+00, 2.94000e+02, 8.64360e+04],\n",
       "       [1.00000e+00, 3.20000e+02, 1.02400e+05],\n",
       "       [1.00000e+00, 3.42000e+02, 1.16964e+05],\n",
       "       [1.00000e+00, 3.68000e+02, 1.35424e+05],\n",
       "       [1.00000e+00, 3.96000e+02, 1.56816e+05],\n",
       "       [1.00000e+00, 4.46000e+02, 1.98916e+05],\n",
       "       [1.00000e+00, 4.80000e+02, 2.30400e+05],\n",
       "       [1.00000e+00, 5.86000e+02, 3.43396e+05]])"
      ]
     },
     "execution_count": 40,
     "metadata": {},
     "output_type": "execute_result"
    }
   ],
   "source": [
    "x_pl"
   ]
  },
  {
   "cell_type": "code",
   "execution_count": 41,
   "metadata": {},
   "outputs": [
    {
     "data": {
      "text/plain": [
       "array([[258],\n",
       "       [270],\n",
       "       [294],\n",
       "       [320],\n",
       "       [342],\n",
       "       [368],\n",
       "       [396],\n",
       "       [446],\n",
       "       [480],\n",
       "       [586]])"
      ]
     },
     "execution_count": 41,
     "metadata": {},
     "output_type": "execute_result"
    }
   ],
   "source": [
    "x"
   ]
  },
  {
   "cell_type": "code",
   "execution_count": 42,
   "metadata": {},
   "outputs": [],
   "source": [
    "test = np.arange(260,600,2)[:,np.newaxis]"
   ]
  },
  {
   "cell_type": "code",
   "execution_count": 50,
   "metadata": {},
   "outputs": [],
   "source": [
    "y1 = lr.predict(test)\n",
    "test1 = p1.fit_transform(test)\n",
    "y2 = pr.predict(test1)\n",
    "test2 = p2.fit_transform(test)\n",
    "y3 = pr2.predict(test2)\n",
    "test3 = p3.fit_transform(test)\n",
    "y4 = pr3.predict(test3)"
   ]
  },
  {
   "cell_type": "code",
   "execution_count": 51,
   "metadata": {},
   "outputs": [
    {
     "data": {
      "image/png": "[encoded data removed]",
      "text/plain": [
       "<Figure size 432x288 with 1 Axes>"
      ]
     },
     "metadata": {
      "needs_background": "light"
     },
     "output_type": "display_data"
    }
   ],
   "source": [
    "import matplotlib.pyplot as plt\n",
    "plt.scatter(x,y)\n",
    "plt.plot(test,y1,c = 'red')\n",
    "plt.plot(test,y2,c = 'yellow')\n",
    "plt.plot(test,y3,c = 'black')\n",
    "plt.plot(test,y4,c = 'green')\n",
    "plt.show()"
   ]
  },
  {
   "cell_type": "code",
   "execution_count": 30,
   "metadata": {},
   "outputs": [],
   "source": [
    "from sklearn.metrics import mean_squared_error,r2_score"
   ]
  },
  {
   "cell_type": "code",
   "execution_count": 32,
   "metadata": {},
   "outputs": [
    {
     "name": "stdout",
     "output_type": "stream",
     "text": [
      "Linear: 569.7796663183207\n",
      "Polynomial: 61.330214517447715\n"
     ]
    }
   ],
   "source": [
    "print('Linear:',mean_squared_error(lr.predict(x),y))\n",
    "print('Polynomial:',mean_squared_error(pr.predict(x_pl) ,y))"
   ]
  },
  {
   "cell_type": "code",
   "execution_count": 33,
   "metadata": {},
   "outputs": [
    {
     "name": "stdout",
     "output_type": "stream",
     "text": [
      "accuracy Linear: 0.7976511641127627\n",
      "accuracy Polynomial 0.9815508176225227\n"
     ]
    }
   ],
   "source": [
    "print('accuracy Linear:',r2_score(lr.predict(x),y))\n",
    "print('accuracy Polynomial',r2_score(pr.predict(x_pl),y))"
   ]
  },
  {
   "cell_type": "markdown",
   "metadata": {},
   "source": [
    "## DecisionTree Regression"
   ]
  },
  {
   "cell_type": "code",
   "execution_count": 54,
   "metadata": {},
   "outputs": [],
   "source": [
    "import pandas as pd\n",
    "df = pd.read_excel('housing.csv')\n",
    "df.columns = ['crim','zn','indus','chas','nox','rm','age','dls','rad','tax','ptratio','b',\n",
    "             'lstat','medv']\n",
    "a = df[['rm']].values\n",
    "b = df[['medv']].values"
   ]
  },
  {
   "cell_type": "code",
   "execution_count": 62,
   "metadata": {},
   "outputs": [
    {
     "data": {
      "text/plain": [
       "DecisionTreeRegressor(criterion='mse', max_depth=None, max_features=None,\n",
       "           max_leaf_nodes=None, min_impurity_decrease=0.0,\n",
       "           min_impurity_split=None, min_samples_leaf=1,\n",
       "           min_samples_split=2, min_weight_fraction_leaf=0.0,\n",
       "           presort=False, random_state=None, splitter='best')"
      ]
     },
     "execution_count": 62,
     "metadata": {},
     "output_type": "execute_result"
    }
   ],
   "source": [
    "from sklearn.tree import DecisionTreeRegressor\n",
    "dt = DecisionTreeRegressor()\n",
    "dt.fit(a,b)"
   ]
  },
  {
   "cell_type": "code",
   "execution_count": 63,
   "metadata": {},
   "outputs": [],
   "source": [
    "z1 = dt.predict(a)"
   ]
  },
  {
   "cell_type": "code",
   "execution_count": 64,
   "metadata": {},
   "outputs": [
    {
     "name": "stdout",
     "output_type": "stream",
     "text": [
      "4.451719471947195\n",
      "0.9444442936481255\n"
     ]
    }
   ],
   "source": [
    "print(mean_squared_error(z1,b))\n",
    "print(r2_score(z1,b))"
   ]
  },
  {
   "cell_type": "code",
   "execution_count": 65,
   "metadata": {},
   "outputs": [
    {
     "data": {
      "image/png": "[encoded data removed]",
      "text/plain": [
       "<Figure size 432x288 with 1 Axes>"
      ]
     },
     "metadata": {
      "needs_background": "light"
     },
     "output_type": "display_data"
    }
   ],
   "source": [
    "import matplotlib.pyplot as plt\n",
    "test = np.arange(4,10,1)[:,np.newaxis]\n",
    "plt.scatter(a,b)\n",
    "plt.plot(test,dt.predict(test))\n",
    "plt.show()"
   ]
  },
  {
   "cell_type": "code",
   "execution_count": null,
   "metadata": {},
   "outputs": [],
   "source": []
  },
  {
   "cell_type": "code",
   "execution_count": null,
   "metadata": {},
   "outputs": [],
   "source": []
  }
 ],
 "metadata": {
  "kernelspec": {
   "display_name": "Python 3",
   "language": "python",
   "name": "python3"
  },
  "language_info": {
   "codemirror_mode": {
    "name": "ipython",
    "version": 3
   },
   "file_extension": ".py",
   "mimetype": "text/x-python",
   "name": "python",
   "nbconvert_exporter": "python",
   "pygments_lexer": "ipython3",
   "version": "3.7.3"
  }
 },
 "nbformat": 4,
 "nbformat_minor": 2
}
