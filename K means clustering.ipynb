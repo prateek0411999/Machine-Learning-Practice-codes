{
 "cells": [
  {
   "cell_type": "markdown",
   "metadata": {},
   "source": [
    "## Visualization"
   ]
  },
  {
   "cell_type": "code",
   "execution_count": 10,
   "metadata": {
    "scrolled": true
   },
   "outputs": [
    {
     "name": "stdout",
     "output_type": "stream",
     "text": [
      "[[-6.49536095 -2.27043928]\n",
      " [-6.85724939 -3.39375086]\n",
      " [-7.47320633 -2.51470191]\n",
      " [-7.27217573 -2.77972494]\n",
      " [-6.00383867 -2.75773593]\n",
      " [-2.80383078  4.49633841]\n",
      " [-3.09319703  4.58402177]\n",
      " [ 9.47773095  0.42401548]\n",
      " [-3.3274835   4.15448354]\n",
      " [-1.67284348  3.79658961]\n",
      " [-7.08364999 -3.34359485]\n",
      " [-6.94971969 -2.94046883]\n",
      " [-6.78763311 -1.86417544]\n",
      " [-5.36141935 -2.07993559]\n",
      " [ 8.2819249  -0.33565485]\n",
      " [ 8.23307563  0.13445151]\n",
      " [-6.98881888 -2.05701407]\n",
      " [-7.14925637 -2.08760497]\n",
      " [-3.52780477  4.87687417]\n",
      " [ 7.69149598 -1.06116379]\n",
      " [-6.84610085 -3.21208391]\n",
      " [ 9.48477505  0.57729535]\n",
      " [ 9.00576173  0.89428883]\n",
      " [-2.27856588  4.13135163]\n",
      " [ 8.27541406  1.08567463]\n",
      " [ 7.99229061  0.40893086]\n",
      " [-6.51453591 -2.40794729]\n",
      " [ 9.4167423   0.33659833]\n",
      " [ 8.61571681  0.43566685]\n",
      " [ 8.21162894  0.85297877]\n",
      " [ 8.93839249  0.21185637]\n",
      " [-7.4374805  -3.11213991]\n",
      " [-3.47783427  4.63943797]\n",
      " [ 8.27958824 -0.60445934]\n",
      " [ 8.01024175 -0.07811751]\n",
      " [-2.53631725  3.39143154]\n",
      " [-2.67455843  4.18027571]\n",
      " [ 8.95966133 -0.25658996]\n",
      " [-7.84745901 -2.59564546]\n",
      " [-7.13135576 -3.01806992]\n",
      " [ 8.62506055  0.71548432]\n",
      " [-7.48277023 -3.05809158]\n",
      " [-6.37560393 -2.40631733]\n",
      " [-1.8756766   3.73845083]\n",
      " [-2.01636554  4.19064481]\n",
      " [-3.01481955  3.44690313]\n",
      " [ 8.25038405 -1.33407792]\n",
      " [-3.73390898  3.70229125]\n",
      " [-6.92498481 -2.39474195]\n",
      " [-7.4853112  -3.08158973]\n",
      " [-7.70913163 -3.07041941]\n",
      " [ 8.90032592  0.36690824]\n",
      " [-2.46203302  4.64686581]\n",
      " [ 8.56018656  1.42932528]\n",
      " [-7.83150967 -2.57237312]\n",
      " [-7.14958912 -2.11323844]\n",
      " [-7.54448456 -2.06311749]\n",
      " [-2.60560587  3.02933235]\n",
      " [-6.18615113 -1.93743233]\n",
      " [-7.25719265 -1.67086897]\n",
      " [ 8.2666599   0.29428239]\n",
      " [-2.19755198  3.2955966 ]\n",
      " [ 7.68295243  0.72095004]\n",
      " [ 8.30976062  0.30580738]\n",
      " [-3.50845545  3.98879756]\n",
      " [-3.13341042  4.96485809]\n",
      " [-6.85220482 -2.89897527]\n",
      " [-3.34005957  4.40244896]\n",
      " [-3.51013969  4.67470085]\n",
      " [-2.51220089  4.71017922]\n",
      " [-6.66455825 -2.51335313]\n",
      " [ 8.09822375  0.6427846 ]\n",
      " [-7.11005479 -3.06975255]\n",
      " [ 8.8808908   0.98601689]\n",
      " [-2.3697623   4.38170356]\n",
      " [ 8.85688608 -0.15435925]\n",
      " [-2.66577126  3.586502  ]\n",
      " [-2.94916446  3.66902252]\n",
      " [-2.54054248  3.70103253]\n",
      " [-3.54263542  3.36106042]\n",
      " [ 8.64778649 -0.38250854]\n",
      " [ 8.54090589  0.31966997]\n",
      " [ 8.35619404 -0.46701847]\n",
      " [-3.81588705  5.44866775]\n",
      " [-1.9241317   3.82998338]\n",
      " [-2.21862892  5.60476516]\n",
      " [-6.32003391 -2.43685646]\n",
      " [-7.17024652 -2.13675789]\n",
      " [ 9.08795607  0.62746744]\n",
      " [ 9.32587212  0.83224596]\n",
      " [ 7.76766823 -0.85894308]\n",
      " [ 8.3095425  -0.05078787]\n",
      " [-7.23836064 -2.45608764]\n",
      " [-2.5656008   3.71751046]\n",
      " [-6.89688073 -2.08405821]\n",
      " [-7.90300588 -3.00080356]\n",
      " [-4.16676994  4.08769301]\n",
      " [-7.19636257 -3.14888055]\n",
      " [ 8.44780832  0.04621874]\n",
      " [-6.2379751  -2.04966997]\n",
      " [ 8.0704951   0.08199735]\n",
      " [-2.85503587  4.19163202]\n",
      " [-7.03749896 -1.76165355]\n",
      " [-3.10572232  3.81219912]\n",
      " [-2.90301867  4.48814544]\n",
      " [ 9.28300491  0.46299183]\n",
      " [-7.74672659 -1.84119354]\n",
      " [-6.548062   -3.2537762 ]\n",
      " [ 8.55198874  0.67783251]\n",
      " [ 8.3837138  -0.21313541]\n",
      " [-2.19043202  3.75481369]\n",
      " [-7.01294605 -2.76383981]\n",
      " [-2.79608846  4.30019048]\n",
      " [ 8.44365182 -0.74222767]\n",
      " [-3.15528274  3.98953945]\n",
      " [ 9.03185898  0.44726083]\n",
      " [ 8.88403331  0.62647366]\n",
      " [-7.68060536 -1.88067894]\n",
      " [-2.84356614  3.85596334]\n",
      " [ 8.6580949   0.32990565]\n",
      " [ 8.81411775  0.64521597]\n",
      " [-3.08007498  3.90040247]\n",
      " [-3.45033833  4.40107216]\n",
      " [-6.62025098 -2.26382884]\n",
      " [-3.05142006  4.87999312]\n",
      " [ 9.30155298 -0.04933703]\n",
      " [ 9.52862997  0.69513312]\n",
      " [-2.96626913  3.93053059]\n",
      " [-7.05958269 -2.10851267]\n",
      " [ 8.02111264 -0.06379987]\n",
      " [ 8.65981452 -0.04106547]\n",
      " [-3.24391335  4.60379024]\n",
      " [-7.17016113 -2.56174405]\n",
      " [-7.66010389 -2.17668377]\n",
      " [-2.6557759   4.53512114]\n",
      " [-6.76570188 -2.77996567]\n",
      " [-2.51855618  4.3181569 ]\n",
      " [-6.00540371 -3.05584975]\n",
      " [-3.02062537  4.40230718]\n",
      " [-2.54268753  4.21163567]\n",
      " [ 8.44473005  0.86103918]\n",
      " [ 7.93860058  0.85911054]\n",
      " [-2.78154507  3.36306404]\n",
      " [ 8.64269068  0.37133139]\n",
      " [-3.17060109  3.87046039]\n",
      " [-6.78660437 -2.35206078]\n",
      " [-6.39623496 -2.65967677]\n",
      " [-3.40549702  4.28059361]\n",
      " [-7.15123145 -2.65939022]\n",
      " [ 8.50721655 -0.74565804]] [1 1 1 1 1 0 0 2 0 0 1 1 1 1 2 2 1 1 0 2 1 2 2 0 2 2 1 2 2 2 2 1 0 2 2 0 0\n",
      " 2 1 1 2 1 1 0 0 0 2 0 1 1 1 2 0 2 1 1 1 0 1 1 2 0 2 2 0 0 1 0 0 0 1 2 1 2\n",
      " 0 2 0 0 0 0 2 2 2 0 0 0 1 1 2 2 2 2 1 0 1 1 0 1 2 1 2 0 1 0 0 2 1 1 2 2 0\n",
      " 1 0 2 0 2 2 1 0 2 2 0 0 1 0 2 2 0 1 2 2 0 1 1 0 1 0 1 0 0 2 2 0 2 0 1 1 0\n",
      " 1 2]\n"
     ]
    }
   ],
   "source": [
    "from sklearn.datasets import make_blobs\n",
    "x,y = make_blobs(n_samples = 150,n_features = 2,centers = 3,cluster_std = 0.5)\n",
    "print(x,y)"
   ]
  },
  {
   "cell_type": "code",
   "execution_count": 14,
   "metadata": {},
   "outputs": [
    {
     "data": {
      "image/png": "[encoded data removed]",
      "text/plain": [
       "<Figure size 432x288 with 1 Axes>"
      ]
     },
     "metadata": {
      "needs_background": "light"
     },
     "output_type": "display_data"
    }
   ],
   "source": [
    "import matplotlib.pyplot as plt\n",
    "plt.scatter(x[:,0],x[:,1],c = 'blue', marker = 'o')\n",
    "plt.grid()\n",
    "plt.show()"
   ]
  },
  {
   "cell_type": "markdown",
   "metadata": {},
   "source": [
    "## K means"
   ]
  },
  {
   "cell_type": "code",
   "execution_count": 16,
   "metadata": {},
   "outputs": [],
   "source": [
    "from sklearn.cluster import KMeans\n",
    "km = KMeans(n_clusters = 3,max_iter = 100,tol = 0.0001)\n",
    "y_km = km.fit(x)\n",
    "y_km = km.predict(x)"
   ]
  },
  {
   "cell_type": "code",
   "execution_count": 20,
   "metadata": {},
   "outputs": [
    {
     "data": {
      "image/png": "[encoded data removed]",
      "text/plain": [
       "<Figure size 432x288 with 1 Axes>"
      ]
     },
     "metadata": {
      "needs_background": "light"
     },
     "output_type": "display_data"
    }
   ],
   "source": [
    "plt.scatter(x[y_km == 0,0],x[y_km == 0,1],c = 'black', marker = 'o')\n",
    "plt.scatter(x[y_km == 1,0],x[y_km == 1,1],c = 'red', marker = 's')\n",
    "plt.grid()\n",
    "plt.show()"
   ]
  },
  {
   "cell_type": "code",
   "execution_count": null,
   "metadata": {},
   "outputs": [],
   "source": []
  }
 ],
 "metadata": {
  "kernelspec": {
   "display_name": "Python 3",
   "language": "python",
   "name": "python3"
  },
  "language_info": {
   "codemirror_mode": {
    "name": "ipython",
    "version": 3
   },
   "file_extension": ".py",
   "mimetype": "text/x-python",
   "name": "python",
   "nbconvert_exporter": "python",
   "pygments_lexer": "ipython3",
   "version": "3.7.3"
  }
 },
 "nbformat": 4,
 "nbformat_minor": 2
}
