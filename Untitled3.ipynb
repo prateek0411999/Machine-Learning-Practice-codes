{
 "cells": [
  {
   "cell_type": "code",
   "execution_count": 2,
   "metadata": {},
   "outputs": [
    {
     "data": {
      "image/png": "[encoded data removed]",
      "text/plain": [
       "<Figure size 432x288 with 4 Axes>"
      ]
     },
     "metadata": {
      "needs_background": "light"
     },
     "output_type": "display_data"
    }
   ],
   "source": [
    "from math import*\n",
    "import numpy as np\n",
    "from matplotlib import pyplot as plt\n",
    "x=np.linspace(-10,10,100)# create 100 points in between -10 to 10\n",
    "#x=[-10,-9,-8,-7,-6,-5,-4,-3,-2,-1,0,1,2,3,4,5,6,7,8,9,10]\n",
    "y=x # linear\n",
    "plt.figure(1)\n",
    "plt.subplot(221)\n",
    "plt.plot(x,y)\n",
    "plt.title(\"Linear Activation Function\")\n",
    "plt.xlabel(\"x\")\n",
    "plt.ylabel(\"y\")\n",
    "\n",
    "# threshold at Zero\n",
    "plt.subplot(222)\n",
    "y=[]\n",
    "i=0;\n",
    "while(i<len(x)):\n",
    "    if x[i]<0:\n",
    "        y.append(0)\n",
    "    else:\n",
    "        y.append(1)\n",
    "    i+=1\n",
    "         \n",
    "plt.plot(x,y)\n",
    "plt.title(\"Threshold Function at 0\")\n",
    "plt.xlabel(\"x\")\n",
    "plt.ylabel(\"y\")\n",
    "# ramp function\n",
    "plt.subplot(223)\n",
    "y=[]\n",
    "i=0;\n",
    "while(i<len(x)):\n",
    "    if x[i]<0:\n",
    "        y.append(0)\n",
    "    elif x[i]>1:\n",
    "        y.append(1)\n",
    "    else:\n",
    "        y.append(x[i])\n",
    "    i+=1\n",
    "         \n",
    "plt.plot(x,y)\n",
    "plt.title(\"Ramp Function threshold at 1\")\n",
    "plt.xlabel(\"x\")\n",
    "plt.ylabel(\"y\")\n",
    "\n",
    "# Log Sigmoid\n",
    "plt.subplot(224)\n",
    "y=[]\n",
    "i=0;\n",
    "while(i<len(x)):\n",
    "    y.append(1/(1+exp(-x[i])))\n",
    "    i+=1\n",
    "         \n",
    "plt.plot(x,y)\n",
    "plt.title(\"Logsigmoid Function\")\n",
    "plt.xlabel(\"x\")\n",
    "plt.ylabel(\"y\")\n",
    "plt.show()\n",
    "\n"
   ]
  },
  {
   "cell_type": "code",
   "execution_count": 3,
   "metadata": {},
   "outputs": [
    {
     "name": "stdout",
     "output_type": "stream",
     "text": [
      "Enter size of inputs5\n",
      "Enter Inputs12\n",
      "Enter Weigths2\\\n"
     ]
    },
    {
     "ename": "ValueError",
     "evalue": "could not convert string to float: '2\\\\'",
     "output_type": "error",
     "traceback": [
      "\u001b[1;31m---------------------------------------------------------------------------\u001b[0m",
      "\u001b[1;31mValueError\u001b[0m                                Traceback (most recent call last)",
      "\u001b[1;32m<ipython-input-3-710574b9292e>\u001b[0m in \u001b[0;36m<module>\u001b[1;34m\u001b[0m\n\u001b[0;32m     14\u001b[0m \u001b[1;32mfor\u001b[0m \u001b[0mi\u001b[0m \u001b[1;32min\u001b[0m \u001b[0mrange\u001b[0m\u001b[1;33m(\u001b[0m\u001b[0mn\u001b[0m\u001b[1;33m)\u001b[0m\u001b[1;33m:\u001b[0m\u001b[1;33m\u001b[0m\u001b[1;33m\u001b[0m\u001b[0m\n\u001b[0;32m     15\u001b[0m     \u001b[0mx\u001b[0m\u001b[1;33m.\u001b[0m\u001b[0mappend\u001b[0m\u001b[1;33m(\u001b[0m\u001b[0mfloat\u001b[0m\u001b[1;33m(\u001b[0m\u001b[0minput\u001b[0m\u001b[1;33m(\u001b[0m\u001b[1;34m\"Enter Inputs\"\u001b[0m\u001b[1;33m)\u001b[0m\u001b[1;33m)\u001b[0m\u001b[1;33m)\u001b[0m\u001b[1;33m\u001b[0m\u001b[1;33m\u001b[0m\u001b[0m\n\u001b[1;32m---> 16\u001b[1;33m     \u001b[0mw\u001b[0m\u001b[1;33m.\u001b[0m\u001b[0mappend\u001b[0m\u001b[1;33m(\u001b[0m\u001b[0mfloat\u001b[0m\u001b[1;33m(\u001b[0m\u001b[0minput\u001b[0m\u001b[1;33m(\u001b[0m\u001b[1;34m\"Enter Weigths\"\u001b[0m\u001b[1;33m)\u001b[0m\u001b[1;33m)\u001b[0m\u001b[1;33m)\u001b[0m\u001b[1;33m\u001b[0m\u001b[1;33m\u001b[0m\u001b[0m\n\u001b[0m\u001b[0;32m     17\u001b[0m     \u001b[0mneti\u001b[0m\u001b[1;33m+=\u001b[0m\u001b[0mx\u001b[0m\u001b[1;33m[\u001b[0m\u001b[0mi\u001b[0m\u001b[1;33m]\u001b[0m\u001b[1;33m*\u001b[0m\u001b[0mw\u001b[0m\u001b[1;33m[\u001b[0m\u001b[0mi\u001b[0m\u001b[1;33m]\u001b[0m\u001b[1;33m\u001b[0m\u001b[1;33m\u001b[0m\u001b[0m\n\u001b[0;32m     18\u001b[0m \u001b[0mb\u001b[0m\u001b[1;33m=\u001b[0m\u001b[0mfloat\u001b[0m\u001b[1;33m(\u001b[0m\u001b[0minput\u001b[0m\u001b[1;33m(\u001b[0m\u001b[1;34m\"Enter Value of bias\"\u001b[0m\u001b[1;33m)\u001b[0m\u001b[1;33m)\u001b[0m\u001b[1;33m\u001b[0m\u001b[1;33m\u001b[0m\u001b[0m\n",
      "\u001b[1;31mValueError\u001b[0m: could not convert string to float: '2\\\\'"
     ]
    }
   ],
   "source": [
    "from math import*\n",
    "import numpy as np\n",
    "from matplotlib import pyplot as plt\n",
    "\n",
    "def threshold(x):\n",
    "    if x>0:\n",
    "        return 1\n",
    "    else:\n",
    "        return 0\n",
    "x=[]\n",
    "neti=0\n",
    "w=[]\n",
    "n=int(input(\"Enter size of inputs\"))\n",
    "for i in range(n):\n",
    "    x.append(float(input(\"Enter Inputs\")))\n",
    "    w.append(float(input(\"Enter Weigths\")))\n",
    "    neti+=x[i]*w[i]\n",
    "b=float(input(\"Enter Value of bias\"))\n",
    "neti=neti+b\n",
    "out=threshold(neti)\n",
    "\n",
    "print(\"out put for Mcculloch pit neuron\",out)\n",
    "\n",
    "\n",
    "    \n"
   ]
  },
  {
   "cell_type": "code",
   "execution_count": null,
   "metadata": {},
   "outputs": [],
   "source": [
    "from math import*\n",
    "import numpy as np\n",
    "from matplotlib import pyplot as plt\n",
    "def linear(x):\n",
    "    return x\n",
    "def threshold(x):\n",
    "    if x>0:\n",
    "        return 1\n",
    "    else:\n",
    "        return 0\n",
    "def ramp(x):\n",
    "    if x>1:\n",
    "        return 1\n",
    "    elif x<0:\n",
    "        return 0\n",
    "    else:\n",
    "        return x\n",
    "def logsig(x):\n",
    "    return (1/(1+exp(-x)))\n",
    "x=[]\n",
    "neti=0\n",
    "w=[]\n",
    "n=int(input(\"Enter size of inputs\"))\n",
    "for i in range(n):\n",
    "    x.append(float(input(\"Enter Inputs\")))\n",
    "    w.append(float(input(\"Enter Weigths\")))\n",
    "    neti+=x[i]*w[i]\n",
    "b=float(input(\"Enter Value of bias\"))\n",
    "neti=neti+b\n",
    "ch=int(input(\"Enter neuron 1. linear,2. threshold,3. ramp,4. logsigmoid\"))\n",
    "if ch==1:\n",
    "    out=linear(neti)\n",
    "elif ch==2:\n",
    "    out=threshold(neti)\n",
    "elif ch==3:\n",
    "    out=ramp(neti)\n",
    "elif ch==4:\n",
    "    out=logsig(neti)\n",
    "else:\n",
    "    print(\"Invalid choice of neuron\")\n",
    "print(\"out put for linear neuron\",out)\n",
    "\n",
    "\n",
    "    \n"
   ]
  }
 ],
 "metadata": {
  "kernelspec": {
   "display_name": "Python 3",
   "language": "python",
   "name": "python3"
  },
  "language_info": {
   "codemirror_mode": {
    "name": "ipython",
    "version": 3
   },
   "file_extension": ".py",
   "mimetype": "text/x-python",
   "name": "python",
   "nbconvert_exporter": "python",
   "pygments_lexer": "ipython3",
   "version": "3.7.3"
  }
 },
 "nbformat": 4,
 "nbformat_minor": 2
}
