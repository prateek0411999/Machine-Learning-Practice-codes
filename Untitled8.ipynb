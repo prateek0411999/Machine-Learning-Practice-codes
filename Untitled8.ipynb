{
 "cells": [
  {
   "cell_type": "code",
   "execution_count": 3,
   "metadata": {},
   "outputs": [],
   "source": [
    "import numpy as np\n",
    "target=np.random.uniform(low=-4,high=4,size=20)\n"
   ]
  },
  {
   "cell_type": "code",
   "execution_count": 4,
   "metadata": {},
   "outputs": [
    {
     "data": {
      "text/plain": [
       "array([-2.73120556,  1.01006347, -1.79631714, -0.28835485,  1.4854679 ,\n",
       "        1.22526738,  2.73383484,  3.22177885,  0.53354023,  2.52886972,\n",
       "       -1.84658663,  0.96784146,  3.04563486,  1.02158259,  3.78564585,\n",
       "        0.10123579,  0.97979176, -0.81106361,  2.82211561,  3.35574247])"
      ]
     },
     "execution_count": 4,
     "metadata": {},
     "output_type": "execute_result"
    }
   ],
   "source": [
    "target\n"
   ]
  },
  {
   "cell_type": "code",
   "execution_count": 5,
   "metadata": {},
   "outputs": [],
   "source": [
    "obtained=np.random.uniform(low=-4,high=4,size=20)"
   ]
  },
  {
   "cell_type": "code",
   "execution_count": 6,
   "metadata": {},
   "outputs": [
    {
     "data": {
      "text/plain": [
       "array([ 0.04695084, -3.57539021, -0.32911769,  2.71964964,  2.44519497,\n",
       "       -3.94166211,  3.16276719, -1.48667335, -2.64625695, -3.55221153,\n",
       "       -2.47476034, -0.55870263, -2.81963362, -2.85261821,  3.79544066,\n",
       "        2.39295576, -3.06235208, -0.3046636 , -3.45271617,  3.9909067 ])"
      ]
     },
     "execution_count": 6,
     "metadata": {},
     "output_type": "execute_result"
    }
   ],
   "source": [
    "obtained"
   ]
  },
  {
   "cell_type": "code",
   "execution_count": 7,
   "metadata": {},
   "outputs": [],
   "source": [
    "#Mean Absolute Error\n",
    "val=0;\n",
    "for i in range(0,20):\n",
    "    val=val+(target[i]-obtained[i]);\n",
    "MAE=val/20\n"
   ]
  },
  {
   "cell_type": "code",
   "execution_count": 8,
   "metadata": {},
   "outputs": [
    {
     "data": {
      "text/plain": [
       "1.6923888865885293"
      ]
     },
     "execution_count": 8,
     "metadata": {},
     "output_type": "execute_result"
    }
   ],
   "source": [
    "MAE"
   ]
  },
  {
   "cell_type": "code",
   "execution_count": 9,
   "metadata": {},
   "outputs": [],
   "source": [
    "#Mean square error\n",
    "val2=0;\n",
    "for i in range(0,20):\n",
    "    val2=val2+(target[i]-obtained[i])**2;\n",
    "MSE=val2/20"
   ]
  },
  {
   "cell_type": "code",
   "execution_count": 10,
   "metadata": {},
   "outputs": [
    {
     "data": {
      "text/plain": [
       "12.53839207083213"
      ]
     },
     "execution_count": 10,
     "metadata": {},
     "output_type": "execute_result"
    }
   ],
   "source": [
    "MSE"
   ]
  },
  {
   "cell_type": "code",
   "execution_count": 11,
   "metadata": {},
   "outputs": [],
   "source": [
    "#root mean square error\n",
    "\n",
    "RMS=np.sqrt(MSE);"
   ]
  },
  {
   "cell_type": "code",
   "execution_count": 12,
   "metadata": {},
   "outputs": [
    {
     "data": {
      "text/plain": [
       "3.5409592020852387"
      ]
     },
     "execution_count": 12,
     "metadata": {},
     "output_type": "execute_result"
    }
   ],
   "source": [
    "RMS"
   ]
  },
  {
   "cell_type": "code",
   "execution_count": 17,
   "metadata": {},
   "outputs": [],
   "source": [
    "#residual absolute error\n",
    "#RAE\n",
    "val=0;\n",
    "val1=0;\n",
    "val2=0;\n",
    "for i in range(0,20):\n",
    "    val=val+obtained[i];\n",
    "obt=val/20;\n",
    "for j in range(0,20):\n",
    "    val1=val1+np.absolute((target[i]-obtained[i]));\n",
    "    val2=val2+np.absolute((target[i]-obt));\n",
    "result=val1/val2;"
   ]
  },
  {
   "cell_type": "code",
   "execution_count": 18,
   "metadata": {},
   "outputs": [
    {
     "data": {
      "text/plain": [
       "0.15955343914093326"
      ]
     },
     "execution_count": 18,
     "metadata": {},
     "output_type": "execute_result"
    }
   ],
   "source": [
    "result"
   ]
  },
  {
   "cell_type": "code",
   "execution_count": null,
   "metadata": {},
   "outputs": [],
   "source": []
  },
  {
   "cell_type": "code",
   "execution_count": null,
   "metadata": {},
   "outputs": [],
   "source": []
  }
 ],
 "metadata": {
  "kernelspec": {
   "display_name": "Python 3",
   "language": "python",
   "name": "python3"
  },
  "language_info": {
   "codemirror_mode": {
    "name": "ipython",
    "version": 3
   },
   "file_extension": ".py",
   "mimetype": "text/x-python",
   "name": "python",
   "nbconvert_exporter": "python",
   "pygments_lexer": "ipython3",
   "version": "3.7.3"
  }
 },
 "nbformat": 4,
 "nbformat_minor": 2
}
