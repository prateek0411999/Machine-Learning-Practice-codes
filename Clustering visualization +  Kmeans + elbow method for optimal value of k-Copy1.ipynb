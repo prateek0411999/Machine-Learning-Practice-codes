{
 "cells": [
  {
   "cell_type": "code",
   "execution_count": 1,
   "metadata": {},
   "outputs": [],
   "source": [
    "#UNIT- 4 CLUSTERING\n",
    "from sklearn.datasets import make_blobs\n",
    "X,Y=make_blobs(n_samples=150,n_features=2,centers=3,cluster_std=0.5)\n",
    "# total samples apne paas 150 hh, cluster ka standard deviation apan ne 0.5 lia hh,  jo apan samples create kr rhe vo 3 centers k aas paas scatter hoge tabhi center =3 liya hh jese 50 samples 1 center p another samples on another center. \n"
   ]
  },
  {
   "cell_type": "code",
   "execution_count": 2,
   "metadata": {},
   "outputs": [
    {
     "name": "stdout",
     "output_type": "stream",
     "text": [
      "[[-3.98826010e+00  7.00770777e+00]\n",
      " [ 8.95998855e+00 -1.61840082e-01]\n",
      " [-3.71800803e+00  5.87502904e+00]\n",
      " [ 8.26346488e+00 -2.04982435e+00]\n",
      " [ 1.77549165e+00 -1.58423822e-01]\n",
      " [ 2.10509792e+00 -5.96572813e-01]\n",
      " [-4.13328831e+00  6.60013603e+00]\n",
      " [-4.02538784e+00  6.51240312e+00]\n",
      " [ 1.28043015e+00 -1.15832393e+00]\n",
      " [-2.87322095e+00  6.05174065e+00]\n",
      " [-3.23825712e+00  6.56928199e+00]\n",
      " [ 8.37958785e+00 -1.32314590e+00]\n",
      " [-3.15401157e+00  6.34171977e+00]\n",
      " [-2.97432217e+00  7.03879485e+00]\n",
      " [ 8.07486908e+00 -1.16368603e+00]\n",
      " [ 8.52632875e+00 -2.36614569e+00]\n",
      " [ 8.45040819e+00 -1.53040230e+00]\n",
      " [ 7.28406060e+00 -1.46110761e+00]\n",
      " [-3.34649545e+00  6.87040500e+00]\n",
      " [ 7.83223256e+00 -9.94730776e-01]\n",
      " [ 2.49383330e+00 -6.51062618e-01]\n",
      " [-3.38032223e+00  7.00756092e+00]\n",
      " [-3.42241892e+00  6.42086105e+00]\n",
      " [ 2.43096694e+00 -3.65758714e-01]\n",
      " [ 7.78732492e+00 -7.07242273e-01]\n",
      " [-3.78612071e+00  5.74097599e+00]\n",
      " [ 1.74816626e+00 -1.27502984e+00]\n",
      " [ 8.62444004e+00 -1.14767194e+00]\n",
      " [ 8.24436178e+00 -1.42734201e+00]\n",
      " [ 1.51680413e+00 -1.91080393e-01]\n",
      " [-4.20459171e+00  6.30071379e+00]\n",
      " [-3.31062844e+00  6.71873489e+00]\n",
      " [ 2.10937285e+00 -1.35381404e+00]\n",
      " [ 2.06741619e+00 -1.90381597e-01]\n",
      " [ 2.12473723e+00 -8.61496716e-01]\n",
      " [ 1.70930351e+00  2.38494474e-01]\n",
      " [ 7.65543443e+00 -1.96500846e+00]\n",
      " [-3.99477677e+00  6.36892903e+00]\n",
      " [ 2.61719551e+00 -2.00457956e-01]\n",
      " [ 3.14791847e+00 -9.19140087e-01]\n",
      " [ 9.29512498e+00 -1.07275389e+00]\n",
      " [ 8.71400237e+00 -1.16886475e+00]\n",
      " [ 2.17631242e+00 -5.83585830e-01]\n",
      " [ 2.11777099e+00 -5.60614513e-01]\n",
      " [-3.62281711e+00  6.62521854e+00]\n",
      " [ 8.49724322e+00 -1.86413489e+00]\n",
      " [ 9.31419239e+00  1.99216086e-01]\n",
      " [ 2.80803563e+00 -5.39099122e-01]\n",
      " [-4.01404012e+00  6.44435157e+00]\n",
      " [-2.93933482e+00  6.24531901e+00]\n",
      " [ 2.86063379e+00 -9.17950173e-01]\n",
      " [ 2.04488689e+00  3.72675353e-02]\n",
      " [ 7.53063860e+00 -1.22618904e+00]\n",
      " [ 8.39825528e+00 -6.05122541e-01]\n",
      " [ 2.82765135e+00 -4.46875346e-01]\n",
      " [-2.45332794e+00  6.63583843e+00]\n",
      " [-3.30100460e+00  5.84830192e+00]\n",
      " [ 2.61375519e+00 -7.94322431e-01]\n",
      " [ 1.92225849e+00 -9.05581922e-01]\n",
      " [ 2.08331591e+00 -3.31286705e-02]\n",
      " [ 8.66575109e+00 -5.95568866e-01]\n",
      " [ 3.63142156e+00 -1.31969731e+00]\n",
      " [ 7.65270378e+00  1.69316417e-01]\n",
      " [ 2.34747600e+00 -7.45448273e-01]\n",
      " [-3.48218215e+00  6.70237823e+00]\n",
      " [ 1.73836927e+00  2.27298498e-01]\n",
      " [ 8.35841513e+00 -1.12432381e+00]\n",
      " [ 8.75601306e+00 -1.17957454e+00]\n",
      " [ 7.63116329e+00 -1.48298205e+00]\n",
      " [-3.75868072e+00  6.36737746e+00]\n",
      " [-3.69141504e+00  6.80593343e+00]\n",
      " [ 8.14201468e+00 -1.22548265e+00]\n",
      " [-3.31323277e+00  6.81495705e+00]\n",
      " [ 2.48168377e+00 -6.43865236e-01]\n",
      " [-3.75533716e+00  6.39529807e+00]\n",
      " [-3.71563591e+00  7.01845343e+00]\n",
      " [ 1.99886976e+00 -2.94823402e-01]\n",
      " [ 8.16472286e+00 -7.94908778e-01]\n",
      " [-4.21575444e+00  6.13619936e+00]\n",
      " [ 1.63333792e+00 -7.04985599e-01]\n",
      " [ 2.57709035e+00 -9.83359200e-02]\n",
      " [ 7.45829972e+00 -8.20755856e-01]\n",
      " [ 1.48219656e+00 -4.41425381e-01]\n",
      " [ 8.01831777e+00 -7.79955226e-01]\n",
      " [ 1.90241697e+00 -1.50106313e-01]\n",
      " [ 8.36887768e+00 -1.25620793e+00]\n",
      " [-3.22289466e+00  6.44623393e+00]\n",
      " [ 8.24541058e+00 -1.13670940e+00]\n",
      " [-3.63810681e+00  6.90818731e+00]\n",
      " [ 1.89640272e+00 -3.98277169e-01]\n",
      " [ 2.62919374e+00 -9.93905836e-02]\n",
      " [-2.77268342e+00  5.83970758e+00]\n",
      " [ 2.01965902e+00 -3.56851464e-01]\n",
      " [ 8.16279364e+00 -1.87912730e-01]\n",
      " [ 7.63036678e+00 -1.01922629e+00]\n",
      " [ 8.31680368e+00 -1.41127154e+00]\n",
      " [-4.10553976e+00  6.61631859e+00]\n",
      " [ 7.51157613e+00 -1.91239954e+00]\n",
      " [ 2.55273020e+00  5.22389766e-01]\n",
      " [-3.83840965e+00  6.49187723e+00]\n",
      " [-2.90395445e+00  6.27022229e+00]\n",
      " [-3.64624737e+00  6.80586234e+00]\n",
      " [ 6.99358816e+00 -5.31502812e-01]\n",
      " [-3.53845542e+00  6.08959892e+00]\n",
      " [ 8.59452451e+00 -3.71089145e-01]\n",
      " [ 8.05674470e+00 -1.08539079e+00]\n",
      " [ 1.94088767e+00  1.06965749e-01]\n",
      " [-3.51213655e+00  6.72308467e+00]\n",
      " [ 2.54320090e+00 -4.12962544e-01]\n",
      " [ 8.43966317e+00 -1.41932827e+00]\n",
      " [ 8.00089708e+00 -1.94712062e+00]\n",
      " [ 1.55672002e+00 -5.38504468e-01]\n",
      " [-4.03574622e+00  6.02395773e+00]\n",
      " [ 8.49853719e+00 -1.37838250e+00]\n",
      " [-3.17282234e+00  6.59833211e+00]\n",
      " [-3.15292950e+00  5.92803524e+00]\n",
      " [ 1.75182499e+00 -3.48521300e-01]\n",
      " [-4.51618467e+00  7.30933613e+00]\n",
      " [ 8.95453658e+00 -6.04994413e-01]\n",
      " [ 7.85638979e+00 -7.73398936e-01]\n",
      " [ 7.93822278e+00 -6.08065063e-01]\n",
      " [ 8.00046163e+00 -3.82599904e-01]\n",
      " [ 7.91215874e+00 -5.09074112e-01]\n",
      " [ 2.17646986e+00 -5.94188702e-01]\n",
      " [ 2.12386093e+00 -4.65520945e-01]\n",
      " [-3.13789334e+00  6.45251189e+00]\n",
      " [ 2.42781913e+00 -1.43735470e+00]\n",
      " [-4.11390490e+00  7.35495802e+00]\n",
      " [ 2.16984321e+00 -1.34358481e-01]\n",
      " [ 8.57516466e+00 -8.51611133e-01]\n",
      " [-3.19136322e+00  6.90233281e+00]\n",
      " [ 2.87861444e+00 -1.13294358e+00]\n",
      " [ 2.91303729e+00 -7.90120493e-02]\n",
      " [-3.89502622e+00  6.14007399e+00]\n",
      " [-2.89914388e+00  4.92299033e+00]\n",
      " [ 8.18874045e+00 -1.44846583e+00]\n",
      " [-3.52366414e+00  6.28263776e+00]\n",
      " [-2.99680847e+00  6.34911553e+00]\n",
      " [-3.35055783e+00  5.31629766e+00]\n",
      " [ 2.31922635e+00 -2.71502488e-01]\n",
      " [-3.83437213e+00  6.80796108e+00]\n",
      " [ 2.85332446e+00 -7.60249883e-01]\n",
      " [ 2.80539902e+00  7.45961965e-01]\n",
      " [ 2.10879551e+00  8.45004201e-03]\n",
      " [-3.31755309e+00  6.50697107e+00]\n",
      " [ 7.47703235e+00 -1.43319232e+00]\n",
      " [ 1.47140775e+00 -4.14632812e-02]\n",
      " [ 8.30862335e+00 -1.25020511e+00]\n",
      " [ 8.46557187e+00 -1.23415261e+00]\n",
      " [ 8.25104297e+00 -7.57927927e-01]] [1 2 1 2 0 0 1 1 0 1 1 2 1 1 2 2 2 2 1 2 0 1 1 0 2 1 0 2 2 0 1 1 0 0 0 0 2\n",
      " 1 0 0 2 2 0 0 1 2 2 0 1 1 0 0 2 2 0 1 1 0 0 0 2 0 2 0 1 0 2 2 2 1 1 2 1 0\n",
      " 1 1 0 2 1 0 0 2 0 2 0 2 1 2 1 0 0 1 0 2 2 2 1 2 0 1 1 1 2 1 2 2 0 1 0 2 2\n",
      " 0 1 2 1 1 0 1 2 2 2 2 2 0 0 1 0 1 0 2 1 0 0 1 1 2 1 1 1 0 1 0 0 0 1 2 0 2\n",
      " 2 2]\n"
     ]
    }
   ],
   "source": [
    "print(X,Y)"
   ]
  },
  {
   "cell_type": "code",
   "execution_count": 3,
   "metadata": {},
   "outputs": [
    {
     "data": {
      "text/plain": [
       "<Figure size 640x480 with 1 Axes>"
      ]
     },
     "metadata": {},
     "output_type": "display_data"
    }
   ],
   "source": [
    "#apan ab scatter points ko plot krenge apan ko training data plot krte hh i.e X so apan ne scatter function m phele sari X values with 1st feature that is why we have written 0   with X values for feature 2 i.e 1\n",
    "import matplotlib.pyplot as plt\n",
    "plt.scatter(X[:,0],X[:,1],marker='o')\n",
    "plt.grid()\n",
    "plt.show()"
   ]
  },
  {
   "cell_type": "code",
   "execution_count": 5,
   "metadata": {},
   "outputs": [],
   "source": [
    "#ab apan KMeans algorithm lagaeyge\n",
    "from sklearn.cluster import KMeans\n",
    "km=KMeans(n_clusters=2,max_iter=100,tol=0.0001) #tolerance value is tol, centroid ki value agar 0.0001 ho jaeygi toh aage iterate nhi krege i.e. we'll stop out algorithm \n",
    "y_km=km.fit_predict(X)\n",
    "#apan ne n_cluster 2 liye tabhi apan k paas fir utne hi bar hme cluster or X k features ko map krna padega\n",
    "#jese ab apan 2 bar krege kyuki 2 cluster bnege predict ki hui values se or 2 hi apne features hh datatset k .\n",
    "\n",
    "#Y_km i.e predict k values bhi 2 cluster m hh  toh apan fir plot krege X & y_km k 1st features or cluster  ko i.e. 0 aur Y_km k 1st cluster i.e. 0 and X k 2nd features i.e. 1\n",
    "#fir same apan y_km k 2nd cluster k sath X k features plot krege\n"
   ]
  },
  {
   "cell_type": "code",
   "execution_count": 21,
   "metadata": {},
   "outputs": [
    {
     "data": {
      "image/png": "[encoded data removed]",
      "text/plain": [
       "<Figure size 432x288 with 1 Axes>"
      ]
     },
     "metadata": {
      "needs_background": "light"
     },
     "output_type": "display_data"
    }
   ],
   "source": [
    "# fir apan ne dono ko sath plot kiya \n",
    "plt.scatter(X[y_km==0,0],X[y_km==0,1],c='red',marker='s',label='Cluster1')\n",
    "plt.scatter(X[y_km==1,0],X[y_km==1,1],c='green',marker='*',label='Cluster2')\n",
    "plt.legend()\n",
    "plt.grid()\n",
    "plt.show()"
   ]
  },
  {
   "cell_type": "code",
   "execution_count": 26,
   "metadata": {},
   "outputs": [
    {
     "name": "stdout",
     "output_type": "stream",
     "text": [
      "DISTORTION:  27.64411857733258\n"
     ]
    }
   ],
   "source": [
    "print(\"DISTORTION: \",km.inertia_)"
   ]
  },
  {
   "cell_type": "markdown",
   "metadata": {},
   "source": [
    "### ELBOW METHOD FOR FINDING OPTIMAL VALUE FOR K\n",
    "\n"
   ]
  },
  {
   "cell_type": "code",
   "execution_count": 25,
   "metadata": {},
   "outputs": [
    {
     "name": "stdout",
     "output_type": "stream",
     "text": [
      "7443.271369270893\n",
      "2607.9173885079877\n",
      "71.71219427427499\n",
      "60.69718618605484\n",
      "50.973651819161844\n",
      "42.521665008652576\n",
      "35.180739249119775\n",
      "30.98726225652065\n",
      "27.64411857733258\n"
     ]
    },
    {
     "data": {
      "image/png": "[encoded data removed]",
      "text/plain": [
       "<Figure size 432x288 with 1 Axes>"
      ]
     },
     "metadata": {
      "needs_background": "light"
     },
     "output_type": "display_data"
    }
   ],
   "source": [
    "#ELBOW METHOD FOR FINDING OPTIMAL VALUE OF K\n",
    "from sklearn.cluster import KMeans\n",
    "import numpy as np\n",
    "\n",
    "distortion=[]\n",
    "\n",
    "for i in range(1,10,1):\n",
    "    km=KMeans(n_clusters=i)\n",
    "    y_km=km.fit_predict(X)\n",
    "    distortion.append(km.inertia_)\n",
    "    print(km.inertia_)\n",
    "\n",
    "a=np.arange(1,10,1)\n",
    "plt.plot(a,distortion)\n",
    "plt.grid()\n",
    "plt.show()\n",
    "\n",
    "\n"
   ]
  },
  {
   "cell_type": "markdown",
   "metadata": {},
   "source": [
    "#### K ki optimal value 3 hogi as 3 k baad sab linear hi hh i.e. sab aas paas hi hh values \n"
   ]
  },
  {
   "cell_type": "code",
   "execution_count": 34,
   "metadata": {},
   "outputs": [
    {
     "name": "stdout",
     "output_type": "stream",
     "text": [
      "0.37314140829624637\n"
     ]
    }
   ],
   "source": [
    "from sklearn.metrics import silhouette_score\n",
    "print(silhouette_score(X,y_km))"
   ]
  },
  {
   "cell_type": "code",
   "execution_count": 1,
   "metadata": {},
   "outputs": [],
   "source": [
    "#NOW WE'LL DO THE SAME WITH IRIS DATASET\n",
    "from sklearn.datasets import load_iris\n",
    "import pandas as pd\n",
    "df=load_iris()\n",
    "data=df[\"data\"]\n",
    "target=df[\"target\"]\n",
    "\n",
    "\n"
   ]
  },
  {
   "cell_type": "code",
   "execution_count": 4,
   "metadata": {
    "scrolled": true
   },
   "outputs": [
    {
     "name": "stdout",
     "output_type": "stream",
     "text": [
      "681.3706\n",
      "152.34795176035792\n",
      "78.85144142614601\n",
      "57.25600931571815\n",
      "46.44618205128205\n",
      "39.03998724608725\n",
      "34.53097186147187\n",
      "29.98894395078606\n",
      "27.895494645705178\n"
     ]
    },
    {
     "data": {
      "image/png": "[encoded data removed]",
      "text/plain": [
       "<Figure size 432x288 with 1 Axes>"
      ]
     },
     "metadata": {
      "needs_background": "light"
     },
     "output_type": "display_data"
    }
   ],
   "source": [
    "from sklearn.cluster import KMeans\n",
    "import numpy as np\n",
    "import matplotlib.pyplot as plt\n",
    "\n",
    "\n",
    "distortion=[]\n",
    "\n",
    "for i in range(1,10,1):\n",
    "    km=KMeans(n_clusters=i)\n",
    "    y_km=km.fit_predict(data)\n",
    "    distortion.append(km.inertia_)\n",
    "    print(km.inertia_)\n",
    "\n",
    "a=np.arange(1,10,1)\n",
    "plt.plot(a,distortion)\n",
    "plt.grid()\n",
    "plt.show()\n"
   ]
  },
  {
   "cell_type": "code",
   "execution_count": null,
   "metadata": {},
   "outputs": [],
   "source": []
  }
 ],
 "metadata": {
  "kernelspec": {
   "display_name": "Python 3",
   "language": "python",
   "name": "python3"
  },
  "language_info": {
   "codemirror_mode": {
    "name": "ipython",
    "version": 3
   },
   "file_extension": ".py",
   "mimetype": "text/x-python",
   "name": "python",
   "nbconvert_exporter": "python",
   "pygments_lexer": "ipython3",
   "version": "3.7.3"
  }
 },
 "nbformat": 4,
 "nbformat_minor": 2
}
