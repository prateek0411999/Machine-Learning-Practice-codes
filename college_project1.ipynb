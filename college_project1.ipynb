{
 "cells": [
  {
   "cell_type": "code",
   "execution_count": 1,
   "metadata": {},
   "outputs": [],
   "source": [
    "import pandas as pd\n",
    "import numpy as np\n",
    "import matplotlib.pyplot as plt\n",
    "#%matplotlib\n",
    "import seaborn as sns \n",
    "\n"
   ]
  },
  {
   "cell_type": "code",
   "execution_count": 6,
   "metadata": {},
   "outputs": [],
   "source": [
    "df=pd.read_csv(\"final_dataset.csv\")"
   ]
  },
  {
   "cell_type": "code",
   "execution_count": 7,
   "metadata": {},
   "outputs": [
    {
     "data": {
      "text/html": [
       "<div>\n",
       "<style scoped>\n",
       "    .dataframe tbody tr th:only-of-type {\n",
       "        vertical-align: middle;\n",
       "    }\n",
       "\n",
       "    .dataframe tbody tr th {\n",
       "        vertical-align: top;\n",
       "    }\n",
       "\n",
       "    .dataframe thead th {\n",
       "        text-align: right;\n",
       "    }\n",
       "</style>\n",
       "<table border=\"1\" class=\"dataframe\">\n",
       "  <thead>\n",
       "    <tr style=\"text-align: right;\">\n",
       "      <th></th>\n",
       "      <th>Termid</th>\n",
       "      <th>Regd No</th>\n",
       "      <th>Course</th>\n",
       "      <th>Grade</th>\n",
       "      <th>CA_100</th>\n",
       "      <th>MTT_50</th>\n",
       "      <th>ETT_100</th>\n",
       "      <th>ETP_100</th>\n",
       "      <th>Course_Att</th>\n",
       "      <th>MHRDName</th>\n",
       "      <th>...</th>\n",
       "      <th>CA_3</th>\n",
       "      <th>CA_4</th>\n",
       "      <th>Height</th>\n",
       "      <th>Weight</th>\n",
       "      <th>ScholarType</th>\n",
       "      <th>Direction</th>\n",
       "      <th>Gender</th>\n",
       "      <th>Medium</th>\n",
       "      <th>CourseType</th>\n",
       "      <th>ProgramType</th>\n",
       "    </tr>\n",
       "  </thead>\n",
       "  <tbody>\n",
       "    <tr>\n",
       "      <th>0</th>\n",
       "      <td>318192</td>\n",
       "      <td>1101776</td>\n",
       "      <td>KVY1</td>\n",
       "      <td>O</td>\n",
       "      <td>87.0</td>\n",
       "      <td>39.0</td>\n",
       "      <td>82.0</td>\n",
       "      <td>89.0</td>\n",
       "      <td>88.0</td>\n",
       "      <td>Bachelor of Science (Honours) (Agriculture)</td>\n",
       "      <td>...</td>\n",
       "      <td>1.0</td>\n",
       "      <td>0.0</td>\n",
       "      <td>181</td>\n",
       "      <td>65</td>\n",
       "      <td>Hostler</td>\n",
       "      <td>North</td>\n",
       "      <td>Female</td>\n",
       "      <td>Hindi</td>\n",
       "      <td>Theory</td>\n",
       "      <td>UG</td>\n",
       "    </tr>\n",
       "    <tr>\n",
       "      <th>1</th>\n",
       "      <td>318192</td>\n",
       "      <td>1101776</td>\n",
       "      <td>KVY147</td>\n",
       "      <td>A+</td>\n",
       "      <td>87.0</td>\n",
       "      <td>47.0</td>\n",
       "      <td>65.0</td>\n",
       "      <td>85.0</td>\n",
       "      <td>82.0</td>\n",
       "      <td>Bachelor of Science (Honours) (Agriculture)</td>\n",
       "      <td>...</td>\n",
       "      <td>0.0</td>\n",
       "      <td>1.0</td>\n",
       "      <td>181</td>\n",
       "      <td>65</td>\n",
       "      <td>Hostler</td>\n",
       "      <td>North</td>\n",
       "      <td>Female</td>\n",
       "      <td>Hindi</td>\n",
       "      <td>Theory</td>\n",
       "      <td>UG</td>\n",
       "    </tr>\n",
       "    <tr>\n",
       "      <th>2</th>\n",
       "      <td>318192</td>\n",
       "      <td>1101776</td>\n",
       "      <td>KVY148</td>\n",
       "      <td>B+</td>\n",
       "      <td>84.0</td>\n",
       "      <td>29.0</td>\n",
       "      <td>63.0</td>\n",
       "      <td>77.0</td>\n",
       "      <td>76.0</td>\n",
       "      <td>Bachelor of Science (Honours) (Agriculture)</td>\n",
       "      <td>...</td>\n",
       "      <td>3.0</td>\n",
       "      <td>5.0</td>\n",
       "      <td>181</td>\n",
       "      <td>65</td>\n",
       "      <td>Hostler</td>\n",
       "      <td>North</td>\n",
       "      <td>Female</td>\n",
       "      <td>Hindi</td>\n",
       "      <td>Theory</td>\n",
       "      <td>UG</td>\n",
       "    </tr>\n",
       "    <tr>\n",
       "      <th>3</th>\n",
       "      <td>318192</td>\n",
       "      <td>1101776</td>\n",
       "      <td>KVY2</td>\n",
       "      <td>A+</td>\n",
       "      <td>NaN</td>\n",
       "      <td>NaN</td>\n",
       "      <td>NaN</td>\n",
       "      <td>82.0</td>\n",
       "      <td>74.0</td>\n",
       "      <td>Bachelor of Science (Honours) (Agriculture)</td>\n",
       "      <td>...</td>\n",
       "      <td>NaN</td>\n",
       "      <td>NaN</td>\n",
       "      <td>181</td>\n",
       "      <td>65</td>\n",
       "      <td>Hostler</td>\n",
       "      <td>North</td>\n",
       "      <td>Female</td>\n",
       "      <td>Hindi</td>\n",
       "      <td>Practical</td>\n",
       "      <td>UG</td>\n",
       "    </tr>\n",
       "    <tr>\n",
       "      <th>4</th>\n",
       "      <td>318192</td>\n",
       "      <td>1101776</td>\n",
       "      <td>KVY3</td>\n",
       "      <td>A+</td>\n",
       "      <td>87.0</td>\n",
       "      <td>34.0</td>\n",
       "      <td>68.0</td>\n",
       "      <td>89.0</td>\n",
       "      <td>76.0</td>\n",
       "      <td>Bachelor of Science (Honours) (Agriculture)</td>\n",
       "      <td>...</td>\n",
       "      <td>2.0</td>\n",
       "      <td>17.0</td>\n",
       "      <td>181</td>\n",
       "      <td>65</td>\n",
       "      <td>Hostler</td>\n",
       "      <td>North</td>\n",
       "      <td>Female</td>\n",
       "      <td>Hindi</td>\n",
       "      <td>Theory</td>\n",
       "      <td>UG</td>\n",
       "    </tr>\n",
       "  </tbody>\n",
       "</table>\n",
       "<p>5 rows × 22 columns</p>\n",
       "</div>"
      ],
      "text/plain": [
       "   Termid  Regd No  Course Grade  CA_100  MTT_50  ETT_100  ETP_100  \\\n",
       "0  318192  1101776    KVY1     O    87.0    39.0     82.0     89.0   \n",
       "1  318192  1101776  KVY147    A+    87.0    47.0     65.0     85.0   \n",
       "2  318192  1101776  KVY148    B+    84.0    29.0     63.0     77.0   \n",
       "3  318192  1101776    KVY2    A+     NaN     NaN      NaN     82.0   \n",
       "4  318192  1101776    KVY3    A+    87.0    34.0     68.0     89.0   \n",
       "\n",
       "   Course_Att                                     MHRDName  ...  CA_3  CA_4  \\\n",
       "0        88.0  Bachelor of Science (Honours) (Agriculture)  ...   1.0   0.0   \n",
       "1        82.0  Bachelor of Science (Honours) (Agriculture)  ...   0.0   1.0   \n",
       "2        76.0  Bachelor of Science (Honours) (Agriculture)  ...   3.0   5.0   \n",
       "3        74.0  Bachelor of Science (Honours) (Agriculture)  ...   NaN   NaN   \n",
       "4        76.0  Bachelor of Science (Honours) (Agriculture)  ...   2.0  17.0   \n",
       "\n",
       "   Height  Weight  ScholarType  Direction  Gender Medium CourseType  \\\n",
       "0     181      65      Hostler      North  Female  Hindi     Theory   \n",
       "1     181      65      Hostler      North  Female  Hindi     Theory   \n",
       "2     181      65      Hostler      North  Female  Hindi     Theory   \n",
       "3     181      65      Hostler      North  Female  Hindi  Practical   \n",
       "4     181      65      Hostler      North  Female  Hindi     Theory   \n",
       "\n",
       "  ProgramType  \n",
       "0          UG  \n",
       "1          UG  \n",
       "2          UG  \n",
       "3          UG  \n",
       "4          UG  \n",
       "\n",
       "[5 rows x 22 columns]"
      ]
     },
     "execution_count": 7,
     "metadata": {},
     "output_type": "execute_result"
    }
   ],
   "source": [
    "df.head(5)\n",
    "#df.Medium.value_counts()"
   ]
  },
  {
   "cell_type": "code",
   "execution_count": 8,
   "metadata": {},
   "outputs": [
    {
     "data": {
      "text/plain": [
       "Bachelor of Science (Honours) (Agriculture)                                                     7707\n",
       "Bachelor of Technology in Computer Science and Engineering (Big Data)                           5493\n",
       "Bachelor of Technology (Computer Science and Engineering)                                       4900\n",
       "Bachelor of Technology in Computer Science and Engineering (Android Application Development)    4324\n",
       "Bachelor of Technology in Electronics and Communication Engineering (Internet of Things)        3917\n",
       "Bachelor of Technology in Computer Science and Engineering (Data Science)                       3705\n",
       "Bachelor of Technology (Mechanical Engineering)                                                 3238\n",
       "Bachelor of Technology (Electronics and Communication Engineering)                              3209\n",
       "Bachelor of Technology (Civil Engineering)                                                      3077\n",
       "Bachelor of Technology in Mechanical Engineering (Robotics and Mechatronics)                    2692\n",
       "Name: MHRDName, dtype: int64"
      ]
     },
     "execution_count": 8,
     "metadata": {},
     "output_type": "execute_result"
    }
   ],
   "source": [
    "df[\"MHRDName\"].value_counts().head(10)"
   ]
  },
  {
   "cell_type": "code",
   "execution_count": 9,
   "metadata": {},
   "outputs": [
    {
     "name": "stdout",
     "output_type": "stream",
     "text": [
      "<class 'pandas.core.frame.DataFrame'>\n",
      "RangeIndex: 65535 entries, 0 to 65534\n",
      "Data columns (total 22 columns):\n",
      "Termid         65535 non-null int64\n",
      "Regd No        65535 non-null int64\n",
      "Course         65535 non-null object\n",
      "Grade          65535 non-null object\n",
      "CA_100         62969 non-null float64\n",
      "MTT_50         38414 non-null float64\n",
      "ETT_100        39699 non-null float64\n",
      "ETP_100        29644 non-null float64\n",
      "Course_Att     59454 non-null float64\n",
      "MHRDName       65535 non-null object\n",
      "CA_1           62969 non-null float64\n",
      "CA_2           62969 non-null float64\n",
      "CA_3           62969 non-null float64\n",
      "CA_4           62969 non-null float64\n",
      "Height         65535 non-null int64\n",
      "Weight         65535 non-null int64\n",
      "ScholarType    65535 non-null object\n",
      "Direction      65535 non-null object\n",
      "Gender         65535 non-null object\n",
      "Medium         65535 non-null object\n",
      "CourseType     65535 non-null object\n",
      "ProgramType    65535 non-null object\n",
      "dtypes: float64(9), int64(4), object(9)\n",
      "memory usage: 11.0+ MB\n"
     ]
    }
   ],
   "source": [
    "df.info()"
   ]
  },
  {
   "cell_type": "code",
   "execution_count": 10,
   "metadata": {},
   "outputs": [
    {
     "data": {
      "text/plain": [
       "Termid             0\n",
       "Regd No            0\n",
       "Course             0\n",
       "Grade              0\n",
       "CA_100          2566\n",
       "MTT_50         27121\n",
       "ETT_100        25836\n",
       "ETP_100        35891\n",
       "Course_Att      6081\n",
       "MHRDName           0\n",
       "CA_1            2566\n",
       "CA_2            2566\n",
       "CA_3            2566\n",
       "CA_4            2566\n",
       "Height             0\n",
       "Weight             0\n",
       "ScholarType        0\n",
       "Direction          0\n",
       "Gender             0\n",
       "Medium             0\n",
       "CourseType         0\n",
       "ProgramType        0\n",
       "dtype: int64"
      ]
     },
     "execution_count": 10,
     "metadata": {},
     "output_type": "execute_result"
    }
   ],
   "source": [
    "df.isnull().sum(axis=0)"
   ]
  },
  {
   "cell_type": "markdown",
   "metadata": {},
   "source": [
    "## __Handling the missing values__"
   ]
  },
  {
   "cell_type": "code",
   "execution_count": 11,
   "metadata": {},
   "outputs": [],
   "source": [
    "df[\"CA_100\"].fillna(value=0,axis=0,inplace=True)\n"
   ]
  },
  {
   "cell_type": "code",
   "execution_count": 12,
   "metadata": {},
   "outputs": [],
   "source": [
    "df[\"MTT_50\"].fillna(value=0,axis=0,inplace=True)\n",
    "\n"
   ]
  },
  {
   "cell_type": "code",
   "execution_count": 13,
   "metadata": {},
   "outputs": [],
   "source": [
    "df[\"ETT_100\"].fillna(value=0,axis=0,inplace=True)\n",
    "\n"
   ]
  },
  {
   "cell_type": "code",
   "execution_count": 14,
   "metadata": {},
   "outputs": [],
   "source": [
    "df[\"ETP_100\"].fillna(value=0,axis=0,inplace=True)\n",
    "\n"
   ]
  },
  {
   "cell_type": "code",
   "execution_count": 15,
   "metadata": {},
   "outputs": [],
   "source": [
    "df[\"Course_Att\"].fillna(value=0,axis=0,inplace=True)\n",
    "\n"
   ]
  },
  {
   "cell_type": "code",
   "execution_count": 16,
   "metadata": {},
   "outputs": [
    {
     "data": {
      "text/plain": [
       "Termid            0\n",
       "Regd No           0\n",
       "Course            0\n",
       "Grade             0\n",
       "CA_100            0\n",
       "MTT_50            0\n",
       "ETT_100           0\n",
       "ETP_100           0\n",
       "Course_Att        0\n",
       "MHRDName          0\n",
       "CA_1           2566\n",
       "CA_2           2566\n",
       "CA_3           2566\n",
       "CA_4           2566\n",
       "Height            0\n",
       "Weight            0\n",
       "ScholarType       0\n",
       "Direction         0\n",
       "Gender            0\n",
       "Medium            0\n",
       "CourseType        0\n",
       "ProgramType       0\n",
       "dtype: int64"
      ]
     },
     "execution_count": 16,
     "metadata": {},
     "output_type": "execute_result"
    }
   ],
   "source": [
    "df.isnull().sum()"
   ]
  },
  {
   "cell_type": "code",
   "execution_count": 17,
   "metadata": {},
   "outputs": [],
   "source": [
    "df[\"CA_1\"].fillna(value=0,axis=0,inplace=True)"
   ]
  },
  {
   "cell_type": "code",
   "execution_count": 18,
   "metadata": {},
   "outputs": [],
   "source": [
    "df[\"CA_2\"].fillna(value=0,axis=0,inplace=True)"
   ]
  },
  {
   "cell_type": "code",
   "execution_count": 19,
   "metadata": {},
   "outputs": [],
   "source": [
    "df[\"CA_3\"].fillna(value=0,axis=0,inplace=True)"
   ]
  },
  {
   "cell_type": "code",
   "execution_count": 20,
   "metadata": {},
   "outputs": [],
   "source": [
    "df[\"CA_4\"].fillna(value=0,axis=0,inplace=True)"
   ]
  },
  {
   "cell_type": "code",
   "execution_count": 21,
   "metadata": {},
   "outputs": [
    {
     "data": {
      "text/plain": [
       "Termid         0\n",
       "Regd No        0\n",
       "Course         0\n",
       "Grade          0\n",
       "CA_100         0\n",
       "MTT_50         0\n",
       "ETT_100        0\n",
       "ETP_100        0\n",
       "Course_Att     0\n",
       "MHRDName       0\n",
       "CA_1           0\n",
       "CA_2           0\n",
       "CA_3           0\n",
       "CA_4           0\n",
       "Height         0\n",
       "Weight         0\n",
       "ScholarType    0\n",
       "Direction      0\n",
       "Gender         0\n",
       "Medium         0\n",
       "CourseType     0\n",
       "ProgramType    0\n",
       "dtype: int64"
      ]
     },
     "execution_count": 21,
     "metadata": {},
     "output_type": "execute_result"
    }
   ],
   "source": [
    "df.isnull().sum()"
   ]
  },
  {
   "cell_type": "markdown",
   "metadata": {},
   "source": [
    "## changing categorical values to numericals values"
   ]
  },
  {
   "cell_type": "code",
   "execution_count": 22,
   "metadata": {},
   "outputs": [],
   "source": [
    "#Course        \n",
    "#Grade"
   ]
  },
  {
   "cell_type": "code",
   "execution_count": 23,
   "metadata": {},
   "outputs": [
    {
     "data": {
      "text/plain": [
       "A     14184\n",
       "B+    12924\n",
       "A+    10946\n",
       "B      7163\n",
       "C      5710\n",
       "O      4701\n",
       "Name: Grade, dtype: int64"
      ]
     },
     "execution_count": 23,
     "metadata": {},
     "output_type": "execute_result"
    }
   ],
   "source": [
    "df['Grade'].value_counts().head(6)"
   ]
  },
  {
   "cell_type": "code",
   "execution_count": 24,
   "metadata": {},
   "outputs": [
    {
     "data": {
      "text/plain": [
       "KVY256    385\n",
       "KVY225    385\n",
       "KVY222    385\n",
       "KVY227    385\n",
       "KVY254    385\n",
       "Name: Course, dtype: int64"
      ]
     },
     "execution_count": 24,
     "metadata": {},
     "output_type": "execute_result"
    }
   ],
   "source": [
    "df['Course'].value_counts().head(5)"
   ]
  },
  {
   "cell_type": "code",
   "execution_count": 25,
   "metadata": {},
   "outputs": [
    {
     "data": {
      "text/plain": [
       "0     O\n",
       "1    A+\n",
       "2    B+\n",
       "3    A+\n",
       "4    A+\n",
       "5    A+\n",
       "6    A+\n",
       "7     A\n",
       "Name: Grade, dtype: object"
      ]
     },
     "execution_count": 25,
     "metadata": {},
     "output_type": "execute_result"
    }
   ],
   "source": [
    "df[\"Grade\"].head(8)"
   ]
  },
  {
   "cell_type": "code",
   "execution_count": 26,
   "metadata": {},
   "outputs": [
    {
     "data": {
      "text/plain": [
       "0      KVY1\n",
       "1    KVY147\n",
       "2    KVY148\n",
       "3      KVY2\n",
       "4      KVY3\n",
       "5     KVY93\n",
       "6     KVY94\n",
       "7     KVY95\n",
       "Name: Course, dtype: object"
      ]
     },
     "execution_count": 26,
     "metadata": {},
     "output_type": "execute_result"
    }
   ],
   "source": [
    "df[\"Course\"].head(8)"
   ]
  },
  {
   "cell_type": "code",
   "execution_count": 27,
   "metadata": {},
   "outputs": [],
   "source": [
    "from sklearn.preprocessing import LabelEncoder"
   ]
  },
  {
   "cell_type": "code",
   "execution_count": 28,
   "metadata": {},
   "outputs": [],
   "source": [
    "sagar=LabelEncoder()"
   ]
  },
  {
   "cell_type": "code",
   "execution_count": 29,
   "metadata": {},
   "outputs": [],
   "source": [
    "df[\"Grade\"]=sagar.fit_transform(df[\"Grade\"])"
   ]
  },
  {
   "cell_type": "code",
   "execution_count": 30,
   "metadata": {},
   "outputs": [
    {
     "data": {
      "text/plain": [
       "0    11\n",
       "1     1\n",
       "2     3\n",
       "3     1\n",
       "4     1\n",
       "5     1\n",
       "6     1\n",
       "7     0\n",
       "Name: Grade, dtype: int32"
      ]
     },
     "execution_count": 30,
     "metadata": {},
     "output_type": "execute_result"
    }
   ],
   "source": [
    "df.Grade.head(8)"
   ]
  },
  {
   "cell_type": "code",
   "execution_count": 31,
   "metadata": {},
   "outputs": [],
   "source": [
    "df[\"Course\"]=sagar.fit_transform(df[\"Course\"])"
   ]
  },
  {
   "cell_type": "code",
   "execution_count": 32,
   "metadata": {},
   "outputs": [
    {
     "data": {
      "text/html": [
       "<div>\n",
       "<style scoped>\n",
       "    .dataframe tbody tr th:only-of-type {\n",
       "        vertical-align: middle;\n",
       "    }\n",
       "\n",
       "    .dataframe tbody tr th {\n",
       "        vertical-align: top;\n",
       "    }\n",
       "\n",
       "    .dataframe thead th {\n",
       "        text-align: right;\n",
       "    }\n",
       "</style>\n",
       "<table border=\"1\" class=\"dataframe\">\n",
       "  <thead>\n",
       "    <tr style=\"text-align: right;\">\n",
       "      <th></th>\n",
       "      <th>Course</th>\n",
       "    </tr>\n",
       "  </thead>\n",
       "  <tbody>\n",
       "    <tr>\n",
       "      <th>0</th>\n",
       "      <td>1482</td>\n",
       "    </tr>\n",
       "    <tr>\n",
       "      <th>1</th>\n",
       "      <td>1496</td>\n",
       "    </tr>\n",
       "    <tr>\n",
       "      <th>2</th>\n",
       "      <td>1497</td>\n",
       "    </tr>\n",
       "    <tr>\n",
       "      <th>3</th>\n",
       "      <td>1498</td>\n",
       "    </tr>\n",
       "    <tr>\n",
       "      <th>4</th>\n",
       "      <td>1511</td>\n",
       "    </tr>\n",
       "    <tr>\n",
       "      <th>5</th>\n",
       "      <td>1527</td>\n",
       "    </tr>\n",
       "    <tr>\n",
       "      <th>6</th>\n",
       "      <td>1528</td>\n",
       "    </tr>\n",
       "    <tr>\n",
       "      <th>7</th>\n",
       "      <td>1529</td>\n",
       "    </tr>\n",
       "  </tbody>\n",
       "</table>\n",
       "</div>"
      ],
      "text/plain": [
       "   Course\n",
       "0    1482\n",
       "1    1496\n",
       "2    1497\n",
       "3    1498\n",
       "4    1511\n",
       "5    1527\n",
       "6    1528\n",
       "7    1529"
      ]
     },
     "execution_count": 32,
     "metadata": {},
     "output_type": "execute_result"
    }
   ],
   "source": [
    "df[[\"Course\"]].head(8)"
   ]
  },
  {
   "cell_type": "code",
   "execution_count": 33,
   "metadata": {},
   "outputs": [
    {
     "data": {
      "text/html": [
       "<div>\n",
       "<style scoped>\n",
       "    .dataframe tbody tr th:only-of-type {\n",
       "        vertical-align: middle;\n",
       "    }\n",
       "\n",
       "    .dataframe tbody tr th {\n",
       "        vertical-align: top;\n",
       "    }\n",
       "\n",
       "    .dataframe thead th {\n",
       "        text-align: right;\n",
       "    }\n",
       "</style>\n",
       "<table border=\"1\" class=\"dataframe\">\n",
       "  <thead>\n",
       "    <tr style=\"text-align: right;\">\n",
       "      <th></th>\n",
       "      <th>Termid</th>\n",
       "      <th>Regd No</th>\n",
       "      <th>Course</th>\n",
       "      <th>Grade</th>\n",
       "      <th>CA_100</th>\n",
       "      <th>MTT_50</th>\n",
       "      <th>ETT_100</th>\n",
       "      <th>ETP_100</th>\n",
       "      <th>Course_Att</th>\n",
       "      <th>MHRDName</th>\n",
       "      <th>...</th>\n",
       "      <th>CA_3</th>\n",
       "      <th>CA_4</th>\n",
       "      <th>Height</th>\n",
       "      <th>Weight</th>\n",
       "      <th>ScholarType</th>\n",
       "      <th>Direction</th>\n",
       "      <th>Gender</th>\n",
       "      <th>Medium</th>\n",
       "      <th>CourseType</th>\n",
       "      <th>ProgramType</th>\n",
       "    </tr>\n",
       "  </thead>\n",
       "  <tbody>\n",
       "    <tr>\n",
       "      <th>0</th>\n",
       "      <td>318192</td>\n",
       "      <td>1101776</td>\n",
       "      <td>1482</td>\n",
       "      <td>11</td>\n",
       "      <td>87.0</td>\n",
       "      <td>39.0</td>\n",
       "      <td>82.0</td>\n",
       "      <td>89.0</td>\n",
       "      <td>88.0</td>\n",
       "      <td>Bachelor of Science (Honours) (Agriculture)</td>\n",
       "      <td>...</td>\n",
       "      <td>1.0</td>\n",
       "      <td>0.0</td>\n",
       "      <td>181</td>\n",
       "      <td>65</td>\n",
       "      <td>Hostler</td>\n",
       "      <td>North</td>\n",
       "      <td>Female</td>\n",
       "      <td>Hindi</td>\n",
       "      <td>Theory</td>\n",
       "      <td>UG</td>\n",
       "    </tr>\n",
       "    <tr>\n",
       "      <th>1</th>\n",
       "      <td>318192</td>\n",
       "      <td>1101776</td>\n",
       "      <td>1496</td>\n",
       "      <td>1</td>\n",
       "      <td>87.0</td>\n",
       "      <td>47.0</td>\n",
       "      <td>65.0</td>\n",
       "      <td>85.0</td>\n",
       "      <td>82.0</td>\n",
       "      <td>Bachelor of Science (Honours) (Agriculture)</td>\n",
       "      <td>...</td>\n",
       "      <td>0.0</td>\n",
       "      <td>1.0</td>\n",
       "      <td>181</td>\n",
       "      <td>65</td>\n",
       "      <td>Hostler</td>\n",
       "      <td>North</td>\n",
       "      <td>Female</td>\n",
       "      <td>Hindi</td>\n",
       "      <td>Theory</td>\n",
       "      <td>UG</td>\n",
       "    </tr>\n",
       "    <tr>\n",
       "      <th>2</th>\n",
       "      <td>318192</td>\n",
       "      <td>1101776</td>\n",
       "      <td>1497</td>\n",
       "      <td>3</td>\n",
       "      <td>84.0</td>\n",
       "      <td>29.0</td>\n",
       "      <td>63.0</td>\n",
       "      <td>77.0</td>\n",
       "      <td>76.0</td>\n",
       "      <td>Bachelor of Science (Honours) (Agriculture)</td>\n",
       "      <td>...</td>\n",
       "      <td>3.0</td>\n",
       "      <td>5.0</td>\n",
       "      <td>181</td>\n",
       "      <td>65</td>\n",
       "      <td>Hostler</td>\n",
       "      <td>North</td>\n",
       "      <td>Female</td>\n",
       "      <td>Hindi</td>\n",
       "      <td>Theory</td>\n",
       "      <td>UG</td>\n",
       "    </tr>\n",
       "    <tr>\n",
       "      <th>3</th>\n",
       "      <td>318192</td>\n",
       "      <td>1101776</td>\n",
       "      <td>1498</td>\n",
       "      <td>1</td>\n",
       "      <td>0.0</td>\n",
       "      <td>0.0</td>\n",
       "      <td>0.0</td>\n",
       "      <td>82.0</td>\n",
       "      <td>74.0</td>\n",
       "      <td>Bachelor of Science (Honours) (Agriculture)</td>\n",
       "      <td>...</td>\n",
       "      <td>0.0</td>\n",
       "      <td>0.0</td>\n",
       "      <td>181</td>\n",
       "      <td>65</td>\n",
       "      <td>Hostler</td>\n",
       "      <td>North</td>\n",
       "      <td>Female</td>\n",
       "      <td>Hindi</td>\n",
       "      <td>Practical</td>\n",
       "      <td>UG</td>\n",
       "    </tr>\n",
       "  </tbody>\n",
       "</table>\n",
       "<p>4 rows × 22 columns</p>\n",
       "</div>"
      ],
      "text/plain": [
       "   Termid  Regd No  Course  Grade  CA_100  MTT_50  ETT_100  ETP_100  \\\n",
       "0  318192  1101776    1482     11    87.0    39.0     82.0     89.0   \n",
       "1  318192  1101776    1496      1    87.0    47.0     65.0     85.0   \n",
       "2  318192  1101776    1497      3    84.0    29.0     63.0     77.0   \n",
       "3  318192  1101776    1498      1     0.0     0.0      0.0     82.0   \n",
       "\n",
       "   Course_Att                                     MHRDName  ...  CA_3  CA_4  \\\n",
       "0        88.0  Bachelor of Science (Honours) (Agriculture)  ...   1.0   0.0   \n",
       "1        82.0  Bachelor of Science (Honours) (Agriculture)  ...   0.0   1.0   \n",
       "2        76.0  Bachelor of Science (Honours) (Agriculture)  ...   3.0   5.0   \n",
       "3        74.0  Bachelor of Science (Honours) (Agriculture)  ...   0.0   0.0   \n",
       "\n",
       "   Height  Weight  ScholarType  Direction  Gender Medium CourseType  \\\n",
       "0     181      65      Hostler      North  Female  Hindi     Theory   \n",
       "1     181      65      Hostler      North  Female  Hindi     Theory   \n",
       "2     181      65      Hostler      North  Female  Hindi     Theory   \n",
       "3     181      65      Hostler      North  Female  Hindi  Practical   \n",
       "\n",
       "  ProgramType  \n",
       "0          UG  \n",
       "1          UG  \n",
       "2          UG  \n",
       "3          UG  \n",
       "\n",
       "[4 rows x 22 columns]"
      ]
     },
     "execution_count": 33,
     "metadata": {},
     "output_type": "execute_result"
    }
   ],
   "source": [
    "df.head(4)"
   ]
  },
  {
   "cell_type": "code",
   "execution_count": 34,
   "metadata": {},
   "outputs": [
    {
     "data": {
      "text/plain": [
       "Index(['Termid', 'Regd No', 'Course', 'Grade', 'CA_100', 'MTT_50', 'ETT_100',\n",
       "       'ETP_100', 'Course_Att', 'MHRDName', 'CA_1', 'CA_2', 'CA_3', 'CA_4',\n",
       "       'Height', 'Weight', 'ScholarType', 'Direction', 'Gender', 'Medium',\n",
       "       'CourseType', 'ProgramType'],\n",
       "      dtype='object')"
      ]
     },
     "execution_count": 34,
     "metadata": {},
     "output_type": "execute_result"
    }
   ],
   "source": [
    "df.columns"
   ]
  },
  {
   "cell_type": "code",
   "execution_count": 35,
   "metadata": {},
   "outputs": [],
   "source": [
    "df[\"ScholarType\"]=sagar.fit_transform(df[\"ScholarType\"])"
   ]
  },
  {
   "cell_type": "code",
   "execution_count": 36,
   "metadata": {},
   "outputs": [],
   "source": [
    "df[\"Direction\"]=sagar.fit_transform(df[\"Direction\"])"
   ]
  },
  {
   "cell_type": "code",
   "execution_count": 37,
   "metadata": {},
   "outputs": [],
   "source": [
    "df[\"Gender\"]=sagar.fit_transform(df[\"Gender\"])"
   ]
  },
  {
   "cell_type": "code",
   "execution_count": 38,
   "metadata": {},
   "outputs": [],
   "source": [
    "df[\"Medium\"]=sagar.fit_transform(df[\"Medium\"])"
   ]
  },
  {
   "cell_type": "code",
   "execution_count": 39,
   "metadata": {},
   "outputs": [],
   "source": [
    "df[\"CourseType\"]=sagar.fit_transform(df[\"CourseType\"])"
   ]
  },
  {
   "cell_type": "code",
   "execution_count": 40,
   "metadata": {},
   "outputs": [],
   "source": [
    "df[\"ProgramType\"]=sagar.fit_transform(df[\"ProgramType\"])"
   ]
  },
  {
   "cell_type": "code",
   "execution_count": 41,
   "metadata": {},
   "outputs": [
    {
     "data": {
      "text/html": [
       "<div>\n",
       "<style scoped>\n",
       "    .dataframe tbody tr th:only-of-type {\n",
       "        vertical-align: middle;\n",
       "    }\n",
       "\n",
       "    .dataframe tbody tr th {\n",
       "        vertical-align: top;\n",
       "    }\n",
       "\n",
       "    .dataframe thead th {\n",
       "        text-align: right;\n",
       "    }\n",
       "</style>\n",
       "<table border=\"1\" class=\"dataframe\">\n",
       "  <thead>\n",
       "    <tr style=\"text-align: right;\">\n",
       "      <th></th>\n",
       "      <th>Termid</th>\n",
       "      <th>Regd No</th>\n",
       "      <th>Course</th>\n",
       "      <th>Grade</th>\n",
       "      <th>CA_100</th>\n",
       "      <th>MTT_50</th>\n",
       "      <th>ETT_100</th>\n",
       "      <th>ETP_100</th>\n",
       "      <th>Course_Att</th>\n",
       "      <th>MHRDName</th>\n",
       "      <th>...</th>\n",
       "      <th>CA_3</th>\n",
       "      <th>CA_4</th>\n",
       "      <th>Height</th>\n",
       "      <th>Weight</th>\n",
       "      <th>ScholarType</th>\n",
       "      <th>Direction</th>\n",
       "      <th>Gender</th>\n",
       "      <th>Medium</th>\n",
       "      <th>CourseType</th>\n",
       "      <th>ProgramType</th>\n",
       "    </tr>\n",
       "  </thead>\n",
       "  <tbody>\n",
       "    <tr>\n",
       "      <th>0</th>\n",
       "      <td>318192</td>\n",
       "      <td>1101776</td>\n",
       "      <td>1482</td>\n",
       "      <td>11</td>\n",
       "      <td>87.0</td>\n",
       "      <td>39.0</td>\n",
       "      <td>82.0</td>\n",
       "      <td>89.0</td>\n",
       "      <td>88.0</td>\n",
       "      <td>Bachelor of Science (Honours) (Agriculture)</td>\n",
       "      <td>...</td>\n",
       "      <td>1.0</td>\n",
       "      <td>0.0</td>\n",
       "      <td>181</td>\n",
       "      <td>65</td>\n",
       "      <td>1</td>\n",
       "      <td>1</td>\n",
       "      <td>0</td>\n",
       "      <td>1</td>\n",
       "      <td>1</td>\n",
       "      <td>1</td>\n",
       "    </tr>\n",
       "    <tr>\n",
       "      <th>1</th>\n",
       "      <td>318192</td>\n",
       "      <td>1101776</td>\n",
       "      <td>1496</td>\n",
       "      <td>1</td>\n",
       "      <td>87.0</td>\n",
       "      <td>47.0</td>\n",
       "      <td>65.0</td>\n",
       "      <td>85.0</td>\n",
       "      <td>82.0</td>\n",
       "      <td>Bachelor of Science (Honours) (Agriculture)</td>\n",
       "      <td>...</td>\n",
       "      <td>0.0</td>\n",
       "      <td>1.0</td>\n",
       "      <td>181</td>\n",
       "      <td>65</td>\n",
       "      <td>1</td>\n",
       "      <td>1</td>\n",
       "      <td>0</td>\n",
       "      <td>1</td>\n",
       "      <td>1</td>\n",
       "      <td>1</td>\n",
       "    </tr>\n",
       "    <tr>\n",
       "      <th>2</th>\n",
       "      <td>318192</td>\n",
       "      <td>1101776</td>\n",
       "      <td>1497</td>\n",
       "      <td>3</td>\n",
       "      <td>84.0</td>\n",
       "      <td>29.0</td>\n",
       "      <td>63.0</td>\n",
       "      <td>77.0</td>\n",
       "      <td>76.0</td>\n",
       "      <td>Bachelor of Science (Honours) (Agriculture)</td>\n",
       "      <td>...</td>\n",
       "      <td>3.0</td>\n",
       "      <td>5.0</td>\n",
       "      <td>181</td>\n",
       "      <td>65</td>\n",
       "      <td>1</td>\n",
       "      <td>1</td>\n",
       "      <td>0</td>\n",
       "      <td>1</td>\n",
       "      <td>1</td>\n",
       "      <td>1</td>\n",
       "    </tr>\n",
       "    <tr>\n",
       "      <th>3</th>\n",
       "      <td>318192</td>\n",
       "      <td>1101776</td>\n",
       "      <td>1498</td>\n",
       "      <td>1</td>\n",
       "      <td>0.0</td>\n",
       "      <td>0.0</td>\n",
       "      <td>0.0</td>\n",
       "      <td>82.0</td>\n",
       "      <td>74.0</td>\n",
       "      <td>Bachelor of Science (Honours) (Agriculture)</td>\n",
       "      <td>...</td>\n",
       "      <td>0.0</td>\n",
       "      <td>0.0</td>\n",
       "      <td>181</td>\n",
       "      <td>65</td>\n",
       "      <td>1</td>\n",
       "      <td>1</td>\n",
       "      <td>0</td>\n",
       "      <td>1</td>\n",
       "      <td>0</td>\n",
       "      <td>1</td>\n",
       "    </tr>\n",
       "  </tbody>\n",
       "</table>\n",
       "<p>4 rows × 22 columns</p>\n",
       "</div>"
      ],
      "text/plain": [
       "   Termid  Regd No  Course  Grade  CA_100  MTT_50  ETT_100  ETP_100  \\\n",
       "0  318192  1101776    1482     11    87.0    39.0     82.0     89.0   \n",
       "1  318192  1101776    1496      1    87.0    47.0     65.0     85.0   \n",
       "2  318192  1101776    1497      3    84.0    29.0     63.0     77.0   \n",
       "3  318192  1101776    1498      1     0.0     0.0      0.0     82.0   \n",
       "\n",
       "   Course_Att                                     MHRDName  ...  CA_3  CA_4  \\\n",
       "0        88.0  Bachelor of Science (Honours) (Agriculture)  ...   1.0   0.0   \n",
       "1        82.0  Bachelor of Science (Honours) (Agriculture)  ...   0.0   1.0   \n",
       "2        76.0  Bachelor of Science (Honours) (Agriculture)  ...   3.0   5.0   \n",
       "3        74.0  Bachelor of Science (Honours) (Agriculture)  ...   0.0   0.0   \n",
       "\n",
       "   Height  Weight  ScholarType  Direction  Gender  Medium  CourseType  \\\n",
       "0     181      65            1          1       0       1           1   \n",
       "1     181      65            1          1       0       1           1   \n",
       "2     181      65            1          1       0       1           1   \n",
       "3     181      65            1          1       0       1           0   \n",
       "\n",
       "   ProgramType  \n",
       "0            1  \n",
       "1            1  \n",
       "2            1  \n",
       "3            1  \n",
       "\n",
       "[4 rows x 22 columns]"
      ]
     },
     "execution_count": 41,
     "metadata": {},
     "output_type": "execute_result"
    }
   ],
   "source": [
    "df.head(4)"
   ]
  },
  {
   "cell_type": "code",
   "execution_count": 42,
   "metadata": {},
   "outputs": [
    {
     "data": {
      "text/plain": [
       "1    16811\n",
       "2    16689\n",
       "3    16170\n",
       "0    15865\n",
       "Name: Direction, dtype: int64"
      ]
     },
     "execution_count": 42,
     "metadata": {},
     "output_type": "execute_result"
    }
   ],
   "source": [
    "df.Direction.value_counts()"
   ]
  },
  {
   "cell_type": "code",
   "execution_count": 43,
   "metadata": {},
   "outputs": [
    {
     "data": {
      "text/plain": [
       "1    62969\n",
       "0     2566\n",
       "Name: CourseType, dtype: int64"
      ]
     },
     "execution_count": 43,
     "metadata": {},
     "output_type": "execute_result"
    }
   ],
   "source": [
    "df.CourseType.value_counts()"
   ]
  },
  {
   "cell_type": "code",
   "execution_count": 44,
   "metadata": {},
   "outputs": [
    {
     "data": {
      "text/plain": [
       "1    64635\n",
       "0      900\n",
       "Name: ProgramType, dtype: int64"
      ]
     },
     "execution_count": 44,
     "metadata": {},
     "output_type": "execute_result"
    }
   ],
   "source": [
    "df.ProgramType.value_counts()"
   ]
  },
  {
   "cell_type": "code",
   "execution_count": null,
   "metadata": {},
   "outputs": [],
   "source": []
  },
  {
   "cell_type": "code",
   "execution_count": 45,
   "metadata": {},
   "outputs": [],
   "source": [
    "df[\"MHRDName\"]=sagar.fit_transform(df[\"MHRDName\"])"
   ]
  },
  {
   "cell_type": "code",
   "execution_count": 46,
   "metadata": {},
   "outputs": [
    {
     "data": {
      "text/plain": [
       "8     7707\n",
       "50    5493\n",
       "33    4900\n",
       "49    4324\n",
       "60    3917\n",
       "53    3705\n",
       "40    3238\n",
       "36    3209\n",
       "32    3077\n",
       "63    2692\n",
       "2     1719\n",
       "Name: MHRDName, dtype: int64"
      ]
     },
     "execution_count": 46,
     "metadata": {},
     "output_type": "execute_result"
    }
   ],
   "source": [
    "df.MHRDName.value_counts().sort_values(ascending = False).head(11)"
   ]
  },
  {
   "cell_type": "code",
   "execution_count": 47,
   "metadata": {},
   "outputs": [
    {
     "data": {
      "text/html": [
       "<div>\n",
       "<style scoped>\n",
       "    .dataframe tbody tr th:only-of-type {\n",
       "        vertical-align: middle;\n",
       "    }\n",
       "\n",
       "    .dataframe tbody tr th {\n",
       "        vertical-align: top;\n",
       "    }\n",
       "\n",
       "    .dataframe thead th {\n",
       "        text-align: right;\n",
       "    }\n",
       "</style>\n",
       "<table border=\"1\" class=\"dataframe\">\n",
       "  <thead>\n",
       "    <tr style=\"text-align: right;\">\n",
       "      <th></th>\n",
       "      <th>Termid</th>\n",
       "      <th>Regd No</th>\n",
       "      <th>Course</th>\n",
       "      <th>Grade</th>\n",
       "      <th>CA_100</th>\n",
       "      <th>MTT_50</th>\n",
       "      <th>ETT_100</th>\n",
       "      <th>ETP_100</th>\n",
       "      <th>Course_Att</th>\n",
       "      <th>MHRDName</th>\n",
       "      <th>...</th>\n",
       "      <th>CA_3</th>\n",
       "      <th>CA_4</th>\n",
       "      <th>Height</th>\n",
       "      <th>Weight</th>\n",
       "      <th>ScholarType</th>\n",
       "      <th>Direction</th>\n",
       "      <th>Gender</th>\n",
       "      <th>Medium</th>\n",
       "      <th>CourseType</th>\n",
       "      <th>ProgramType</th>\n",
       "    </tr>\n",
       "  </thead>\n",
       "  <tbody>\n",
       "    <tr>\n",
       "      <th>0</th>\n",
       "      <td>318192</td>\n",
       "      <td>1101776</td>\n",
       "      <td>1482</td>\n",
       "      <td>11</td>\n",
       "      <td>87.0</td>\n",
       "      <td>39.0</td>\n",
       "      <td>82.0</td>\n",
       "      <td>89.0</td>\n",
       "      <td>88.0</td>\n",
       "      <td>8</td>\n",
       "      <td>...</td>\n",
       "      <td>1.0</td>\n",
       "      <td>0.0</td>\n",
       "      <td>181</td>\n",
       "      <td>65</td>\n",
       "      <td>1</td>\n",
       "      <td>1</td>\n",
       "      <td>0</td>\n",
       "      <td>1</td>\n",
       "      <td>1</td>\n",
       "      <td>1</td>\n",
       "    </tr>\n",
       "    <tr>\n",
       "      <th>1</th>\n",
       "      <td>318192</td>\n",
       "      <td>1101776</td>\n",
       "      <td>1496</td>\n",
       "      <td>1</td>\n",
       "      <td>87.0</td>\n",
       "      <td>47.0</td>\n",
       "      <td>65.0</td>\n",
       "      <td>85.0</td>\n",
       "      <td>82.0</td>\n",
       "      <td>8</td>\n",
       "      <td>...</td>\n",
       "      <td>0.0</td>\n",
       "      <td>1.0</td>\n",
       "      <td>181</td>\n",
       "      <td>65</td>\n",
       "      <td>1</td>\n",
       "      <td>1</td>\n",
       "      <td>0</td>\n",
       "      <td>1</td>\n",
       "      <td>1</td>\n",
       "      <td>1</td>\n",
       "    </tr>\n",
       "    <tr>\n",
       "      <th>2</th>\n",
       "      <td>318192</td>\n",
       "      <td>1101776</td>\n",
       "      <td>1497</td>\n",
       "      <td>3</td>\n",
       "      <td>84.0</td>\n",
       "      <td>29.0</td>\n",
       "      <td>63.0</td>\n",
       "      <td>77.0</td>\n",
       "      <td>76.0</td>\n",
       "      <td>8</td>\n",
       "      <td>...</td>\n",
       "      <td>3.0</td>\n",
       "      <td>5.0</td>\n",
       "      <td>181</td>\n",
       "      <td>65</td>\n",
       "      <td>1</td>\n",
       "      <td>1</td>\n",
       "      <td>0</td>\n",
       "      <td>1</td>\n",
       "      <td>1</td>\n",
       "      <td>1</td>\n",
       "    </tr>\n",
       "    <tr>\n",
       "      <th>3</th>\n",
       "      <td>318192</td>\n",
       "      <td>1101776</td>\n",
       "      <td>1498</td>\n",
       "      <td>1</td>\n",
       "      <td>0.0</td>\n",
       "      <td>0.0</td>\n",
       "      <td>0.0</td>\n",
       "      <td>82.0</td>\n",
       "      <td>74.0</td>\n",
       "      <td>8</td>\n",
       "      <td>...</td>\n",
       "      <td>0.0</td>\n",
       "      <td>0.0</td>\n",
       "      <td>181</td>\n",
       "      <td>65</td>\n",
       "      <td>1</td>\n",
       "      <td>1</td>\n",
       "      <td>0</td>\n",
       "      <td>1</td>\n",
       "      <td>0</td>\n",
       "      <td>1</td>\n",
       "    </tr>\n",
       "    <tr>\n",
       "      <th>4</th>\n",
       "      <td>318192</td>\n",
       "      <td>1101776</td>\n",
       "      <td>1511</td>\n",
       "      <td>1</td>\n",
       "      <td>87.0</td>\n",
       "      <td>34.0</td>\n",
       "      <td>68.0</td>\n",
       "      <td>89.0</td>\n",
       "      <td>76.0</td>\n",
       "      <td>8</td>\n",
       "      <td>...</td>\n",
       "      <td>2.0</td>\n",
       "      <td>17.0</td>\n",
       "      <td>181</td>\n",
       "      <td>65</td>\n",
       "      <td>1</td>\n",
       "      <td>1</td>\n",
       "      <td>0</td>\n",
       "      <td>1</td>\n",
       "      <td>1</td>\n",
       "      <td>1</td>\n",
       "    </tr>\n",
       "  </tbody>\n",
       "</table>\n",
       "<p>5 rows × 22 columns</p>\n",
       "</div>"
      ],
      "text/plain": [
       "   Termid  Regd No  Course  Grade  CA_100  MTT_50  ETT_100  ETP_100  \\\n",
       "0  318192  1101776    1482     11    87.0    39.0     82.0     89.0   \n",
       "1  318192  1101776    1496      1    87.0    47.0     65.0     85.0   \n",
       "2  318192  1101776    1497      3    84.0    29.0     63.0     77.0   \n",
       "3  318192  1101776    1498      1     0.0     0.0      0.0     82.0   \n",
       "4  318192  1101776    1511      1    87.0    34.0     68.0     89.0   \n",
       "\n",
       "   Course_Att  MHRDName  ...  CA_3  CA_4  Height  Weight  ScholarType  \\\n",
       "0        88.0         8  ...   1.0   0.0     181      65            1   \n",
       "1        82.0         8  ...   0.0   1.0     181      65            1   \n",
       "2        76.0         8  ...   3.0   5.0     181      65            1   \n",
       "3        74.0         8  ...   0.0   0.0     181      65            1   \n",
       "4        76.0         8  ...   2.0  17.0     181      65            1   \n",
       "\n",
       "   Direction  Gender  Medium  CourseType  ProgramType  \n",
       "0          1       0       1           1            1  \n",
       "1          1       0       1           1            1  \n",
       "2          1       0       1           1            1  \n",
       "3          1       0       1           0            1  \n",
       "4          1       0       1           1            1  \n",
       "\n",
       "[5 rows x 22 columns]"
      ]
     },
     "execution_count": 47,
     "metadata": {},
     "output_type": "execute_result"
    }
   ],
   "source": [
    "df.head(5)"
   ]
  },
  {
   "cell_type": "code",
   "execution_count": 48,
   "metadata": {},
   "outputs": [
    {
     "data": {
      "text/plain": [
       "Index(['Termid', 'Regd No', 'Course', 'Grade', 'CA_100', 'MTT_50', 'ETT_100',\n",
       "       'ETP_100', 'Course_Att', 'MHRDName', 'CA_1', 'CA_2', 'CA_3', 'CA_4',\n",
       "       'Height', 'Weight', 'ScholarType', 'Direction', 'Gender', 'Medium',\n",
       "       'CourseType', 'ProgramType'],\n",
       "      dtype='object')"
      ]
     },
     "execution_count": 48,
     "metadata": {},
     "output_type": "execute_result"
    }
   ],
   "source": [
    "df.columns"
   ]
  },
  {
   "cell_type": "markdown",
   "metadata": {},
   "source": [
    "## Data visualization"
   ]
  },
  {
   "cell_type": "code",
   "execution_count": 49,
   "metadata": {
    "scrolled": true
   },
   "outputs": [
    {
     "data": {
      "image/png": "[encoded data removed]",
      "text/plain": [
       "<Figure size 224.875x720 with 4 Axes>"
      ]
     },
     "metadata": {
      "needs_background": "light"
     },
     "output_type": "display_data"
    }
   ],
   "source": [
    "#according the plot the students CA1 score is more impact full on overall student CA marks distribution \n",
    "sns.pairplot( data=df,\n",
    "   hue='Gender',\n",
    "    palette=None,\n",
    "    x_vars=[\"CA_100\"],\n",
    "    y_vars=[\"CA_4\",'CA_1', 'CA_2', 'CA_3'],\n",
    "    #size=6,\n",
    "    kind=\"reg\")\n",
    "plt.show()\n"
   ]
  },
  {
   "cell_type": "code",
   "execution_count": 50,
   "metadata": {},
   "outputs": [
    {
     "data": {
      "text/plain": [
       "<matplotlib.axes._subplots.AxesSubplot at 0x21cee71ba90>"
      ]
     },
     "execution_count": 50,
     "metadata": {},
     "output_type": "execute_result"
    },
    {
     "data": {
      "image/png": "[encoded data removed]",
      "text/plain": [
       "<Figure size 648x504 with 3 Axes>"
      ]
     },
     "metadata": {
      "needs_background": "light"
     },
     "output_type": "display_data"
    }
   ],
   "source": [
    "plt.figure(figsize=(9,7))\n",
    "plt.subplot(2,2,1)\n",
    "sns.distplot(df['CA_100'])\n",
    "plt.subplot(2,2,2)\n",
    "sns.distplot(df['MTT_50'])\n",
    "plt.subplot(2,2,3)\n",
    "sns.distplot(df['ETT_100'])\n",
    "\n",
    "\n",
    "\n"
   ]
  },
  {
   "cell_type": "markdown",
   "metadata": {},
   "source": [
    "# checking for outliers\n"
   ]
  },
  {
   "cell_type": "code",
   "execution_count": 51,
   "metadata": {},
   "outputs": [
    {
     "data": {
      "text/plain": [
       "Index(['Termid', 'Regd No', 'Course', 'Grade', 'CA_100', 'MTT_50', 'ETT_100',\n",
       "       'ETP_100', 'Course_Att', 'MHRDName', 'CA_1', 'CA_2', 'CA_3', 'CA_4',\n",
       "       'Height', 'Weight', 'ScholarType', 'Direction', 'Gender', 'Medium',\n",
       "       'CourseType', 'ProgramType'],\n",
       "      dtype='object')"
      ]
     },
     "execution_count": 51,
     "metadata": {},
     "output_type": "execute_result"
    }
   ],
   "source": [
    "df.columns"
   ]
  },
  {
   "cell_type": "code",
   "execution_count": 52,
   "metadata": {},
   "outputs": [
    {
     "data": {
      "text/plain": [
       "<matplotlib.axes._subplots.AxesSubplot at 0x21ceee80a90>"
      ]
     },
     "execution_count": 52,
     "metadata": {},
     "output_type": "execute_result"
    },
    {
     "data": {
      "image/png": "[encoded data removed]",
      "text/plain": [
       "<Figure size 648x504 with 3 Axes>"
      ]
     },
     "metadata": {
      "needs_background": "light"
     },
     "output_type": "display_data"
    }
   ],
   "source": [
    "plt.figure(figsize=(9,7))\n",
    "plt.subplot(2,2,1)\n",
    "sns.boxplot(df.CA_100)\n",
    "plt.subplot(2,2,2)\n",
    "sns.boxplot(df['MTT_50'])\n",
    "plt.subplot(2,2,3)\n",
    "sns.boxplot(df['ETT_100'])"
   ]
  },
  {
   "cell_type": "code",
   "execution_count": 53,
   "metadata": {},
   "outputs": [],
   "source": [
    "##  NO outliers is present "
   ]
  },
  {
   "cell_type": "markdown",
   "metadata": {},
   "source": [
    "## Heatmap(for seeing the correlation )"
   ]
  },
  {
   "cell_type": "code",
   "execution_count": 54,
   "metadata": {},
   "outputs": [
    {
     "data": {
      "text/plain": [
       "<matplotlib.axes._subplots.AxesSubplot at 0x21ceef1acc0>"
      ]
     },
     "execution_count": 54,
     "metadata": {},
     "output_type": "execute_result"
    },
    {
     "data": {
      "image/png": "[encoded data removed]",
      "text/plain": [
       "<Figure size 720x720 with 2 Axes>"
      ]
     },
     "metadata": {
      "needs_background": "light"
     },
     "output_type": "display_data"
    }
   ],
   "source": [
    "plt.figure(figsize=(10,10))\n",
    "sns.heatmap(df.corr(), cmap=\"YlGnBu\",annot=False)"
   ]
  },
  {
   "cell_type": "code",
   "execution_count": 55,
   "metadata": {},
   "outputs": [],
   "source": [
    "#courseType with ca_100 and exams marks are showing some correlation"
   ]
  },
  {
   "cell_type": "code",
   "execution_count": 56,
   "metadata": {},
   "outputs": [],
   "source": [
    "df.reset_index(inplace=True)"
   ]
  },
  {
   "cell_type": "code",
   "execution_count": 57,
   "metadata": {},
   "outputs": [
    {
     "name": "stdout",
     "output_type": "stream",
     "text": [
      "<class 'pandas.core.frame.DataFrame'>\n",
      "RangeIndex: 65535 entries, 0 to 65534\n",
      "Data columns (total 23 columns):\n",
      "index          65535 non-null int64\n",
      "Termid         65535 non-null int64\n",
      "Regd No        65535 non-null int64\n",
      "Course         65535 non-null int32\n",
      "Grade          65535 non-null int32\n",
      "CA_100         65535 non-null float64\n",
      "MTT_50         65535 non-null float64\n",
      "ETT_100        65535 non-null float64\n",
      "ETP_100        65535 non-null float64\n",
      "Course_Att     65535 non-null float64\n",
      "MHRDName       65535 non-null int32\n",
      "CA_1           65535 non-null float64\n",
      "CA_2           65535 non-null float64\n",
      "CA_3           65535 non-null float64\n",
      "CA_4           65535 non-null float64\n",
      "Height         65535 non-null int64\n",
      "Weight         65535 non-null int64\n",
      "ScholarType    65535 non-null int32\n",
      "Direction      65535 non-null int32\n",
      "Gender         65535 non-null int32\n",
      "Medium         65535 non-null int32\n",
      "CourseType     65535 non-null int32\n",
      "ProgramType    65535 non-null int32\n",
      "dtypes: float64(9), int32(9), int64(5)\n",
      "memory usage: 9.2 MB\n"
     ]
    }
   ],
   "source": [
    "df.info()"
   ]
  },
  {
   "cell_type": "code",
   "execution_count": 58,
   "metadata": {},
   "outputs": [
    {
     "data": {
      "text/plain": [
       "(65535, 23)"
      ]
     },
     "execution_count": 58,
     "metadata": {},
     "output_type": "execute_result"
    }
   ],
   "source": [
    "df.shape"
   ]
  },
  {
   "cell_type": "code",
   "execution_count": 59,
   "metadata": {},
   "outputs": [
    {
     "data": {
      "text/plain": [
       "Index(['index', 'Termid', 'Regd No', 'Course', 'Grade', 'CA_100', 'MTT_50',\n",
       "       'ETT_100', 'ETP_100', 'Course_Att', 'MHRDName', 'CA_1', 'CA_2', 'CA_3',\n",
       "       'CA_4', 'Height', 'Weight', 'ScholarType', 'Direction', 'Gender',\n",
       "       'Medium', 'CourseType', 'ProgramType'],\n",
       "      dtype='object')"
      ]
     },
     "execution_count": 59,
     "metadata": {},
     "output_type": "execute_result"
    }
   ],
   "source": [
    "df.columns"
   ]
  },
  {
   "cell_type": "markdown",
   "metadata": {},
   "source": [
    "## Building _model"
   ]
  },
  {
   "cell_type": "code",
   "execution_count": 60,
   "metadata": {},
   "outputs": [],
   "source": [
    "x=df[['index', 'Termid', 'Regd No', 'Course','CA_100', 'MTT_50','ETT_100', 'ETP_100', 'Course_Att', 'MHRDName', 'CA_1', 'CA_2', 'CA_3','CA_4', 'Height', 'Weight', 'ScholarType', 'Direction', 'Gender','Medium', 'CourseType', 'ProgramType']]"
   ]
  },
  {
   "cell_type": "code",
   "execution_count": 61,
   "metadata": {},
   "outputs": [],
   "source": [
    "y=df[[\"Grade\"]]"
   ]
  },
  {
   "cell_type": "code",
   "execution_count": 62,
   "metadata": {},
   "outputs": [
    {
     "data": {
      "text/plain": [
       "(65535, 22)"
      ]
     },
     "execution_count": 62,
     "metadata": {},
     "output_type": "execute_result"
    }
   ],
   "source": [
    "x.shape"
   ]
  },
  {
   "cell_type": "code",
   "execution_count": 63,
   "metadata": {},
   "outputs": [
    {
     "data": {
      "text/plain": [
       "(65535, 1)"
      ]
     },
     "execution_count": 63,
     "metadata": {},
     "output_type": "execute_result"
    }
   ],
   "source": [
    "y.shape"
   ]
  },
  {
   "cell_type": "code",
   "execution_count": 64,
   "metadata": {},
   "outputs": [],
   "source": [
    "from sklearn.model_selection import train_test_split"
   ]
  },
  {
   "cell_type": "code",
   "execution_count": 65,
   "metadata": {},
   "outputs": [],
   "source": [
    "x_train,x_test,y_train,y_test=train_test_split(x,y,test_size=0.3,random_state=0)"
   ]
  },
  {
   "cell_type": "code",
   "execution_count": 66,
   "metadata": {},
   "outputs": [
    {
     "data": {
      "text/html": [
       "<div>\n",
       "<style scoped>\n",
       "    .dataframe tbody tr th:only-of-type {\n",
       "        vertical-align: middle;\n",
       "    }\n",
       "\n",
       "    .dataframe tbody tr th {\n",
       "        vertical-align: top;\n",
       "    }\n",
       "\n",
       "    .dataframe thead th {\n",
       "        text-align: right;\n",
       "    }\n",
       "</style>\n",
       "<table border=\"1\" class=\"dataframe\">\n",
       "  <thead>\n",
       "    <tr style=\"text-align: right;\">\n",
       "      <th></th>\n",
       "      <th>index</th>\n",
       "      <th>Termid</th>\n",
       "      <th>Regd No</th>\n",
       "      <th>Course</th>\n",
       "      <th>CA_100</th>\n",
       "      <th>MTT_50</th>\n",
       "      <th>ETT_100</th>\n",
       "      <th>ETP_100</th>\n",
       "      <th>Course_Att</th>\n",
       "      <th>MHRDName</th>\n",
       "      <th>...</th>\n",
       "      <th>CA_3</th>\n",
       "      <th>CA_4</th>\n",
       "      <th>Height</th>\n",
       "      <th>Weight</th>\n",
       "      <th>ScholarType</th>\n",
       "      <th>Direction</th>\n",
       "      <th>Gender</th>\n",
       "      <th>Medium</th>\n",
       "      <th>CourseType</th>\n",
       "      <th>ProgramType</th>\n",
       "    </tr>\n",
       "  </thead>\n",
       "  <tbody>\n",
       "    <tr>\n",
       "      <th>11158</th>\n",
       "      <td>11158</td>\n",
       "      <td>418192</td>\n",
       "      <td>3687776</td>\n",
       "      <td>3159</td>\n",
       "      <td>87.0</td>\n",
       "      <td>0.0</td>\n",
       "      <td>0.0</td>\n",
       "      <td>72.0</td>\n",
       "      <td>0.0</td>\n",
       "      <td>62</td>\n",
       "      <td>...</td>\n",
       "      <td>6.0</td>\n",
       "      <td>10.0</td>\n",
       "      <td>169</td>\n",
       "      <td>66</td>\n",
       "      <td>0</td>\n",
       "      <td>2</td>\n",
       "      <td>1</td>\n",
       "      <td>0</td>\n",
       "      <td>1</td>\n",
       "      <td>1</td>\n",
       "    </tr>\n",
       "    <tr>\n",
       "      <th>51598</th>\n",
       "      <td>51598</td>\n",
       "      <td>218192</td>\n",
       "      <td>12554776</td>\n",
       "      <td>3362</td>\n",
       "      <td>82.0</td>\n",
       "      <td>39.0</td>\n",
       "      <td>78.0</td>\n",
       "      <td>0.0</td>\n",
       "      <td>90.0</td>\n",
       "      <td>40</td>\n",
       "      <td>...</td>\n",
       "      <td>59.0</td>\n",
       "      <td>10.0</td>\n",
       "      <td>180</td>\n",
       "      <td>88</td>\n",
       "      <td>0</td>\n",
       "      <td>0</td>\n",
       "      <td>1</td>\n",
       "      <td>1</td>\n",
       "      <td>1</td>\n",
       "      <td>1</td>\n",
       "    </tr>\n",
       "    <tr>\n",
       "      <th>58241</th>\n",
       "      <td>58241</td>\n",
       "      <td>318192</td>\n",
       "      <td>14039776</td>\n",
       "      <td>1111</td>\n",
       "      <td>42.0</td>\n",
       "      <td>25.0</td>\n",
       "      <td>56.0</td>\n",
       "      <td>0.0</td>\n",
       "      <td>84.0</td>\n",
       "      <td>39</td>\n",
       "      <td>...</td>\n",
       "      <td>1.0</td>\n",
       "      <td>15.0</td>\n",
       "      <td>158</td>\n",
       "      <td>63</td>\n",
       "      <td>0</td>\n",
       "      <td>3</td>\n",
       "      <td>0</td>\n",
       "      <td>0</td>\n",
       "      <td>1</td>\n",
       "      <td>1</td>\n",
       "    </tr>\n",
       "  </tbody>\n",
       "</table>\n",
       "<p>3 rows × 22 columns</p>\n",
       "</div>"
      ],
      "text/plain": [
       "       index  Termid   Regd No  Course  CA_100  MTT_50  ETT_100  ETP_100  \\\n",
       "11158  11158  418192   3687776    3159    87.0     0.0      0.0     72.0   \n",
       "51598  51598  218192  12554776    3362    82.0    39.0     78.0      0.0   \n",
       "58241  58241  318192  14039776    1111    42.0    25.0     56.0      0.0   \n",
       "\n",
       "       Course_Att  MHRDName  ...  CA_3  CA_4  Height  Weight  ScholarType  \\\n",
       "11158         0.0        62  ...   6.0  10.0     169      66            0   \n",
       "51598        90.0        40  ...  59.0  10.0     180      88            0   \n",
       "58241        84.0        39  ...   1.0  15.0     158      63            0   \n",
       "\n",
       "       Direction  Gender  Medium  CourseType  ProgramType  \n",
       "11158          2       1       0           1            1  \n",
       "51598          0       1       1           1            1  \n",
       "58241          3       0       0           1            1  \n",
       "\n",
       "[3 rows x 22 columns]"
      ]
     },
     "execution_count": 66,
     "metadata": {},
     "output_type": "execute_result"
    }
   ],
   "source": [
    "x_train.head(3)"
   ]
  },
  {
   "cell_type": "code",
   "execution_count": 67,
   "metadata": {},
   "outputs": [
    {
     "data": {
      "text/html": [
       "<div>\n",
       "<style scoped>\n",
       "    .dataframe tbody tr th:only-of-type {\n",
       "        vertical-align: middle;\n",
       "    }\n",
       "\n",
       "    .dataframe tbody tr th {\n",
       "        vertical-align: top;\n",
       "    }\n",
       "\n",
       "    .dataframe thead th {\n",
       "        text-align: right;\n",
       "    }\n",
       "</style>\n",
       "<table border=\"1\" class=\"dataframe\">\n",
       "  <thead>\n",
       "    <tr style=\"text-align: right;\">\n",
       "      <th></th>\n",
       "      <th>Grade</th>\n",
       "    </tr>\n",
       "  </thead>\n",
       "  <tbody>\n",
       "    <tr>\n",
       "      <th>11158</th>\n",
       "      <td>0</td>\n",
       "    </tr>\n",
       "    <tr>\n",
       "      <th>51598</th>\n",
       "      <td>11</td>\n",
       "    </tr>\n",
       "    <tr>\n",
       "      <th>58241</th>\n",
       "      <td>2</td>\n",
       "    </tr>\n",
       "  </tbody>\n",
       "</table>\n",
       "</div>"
      ],
      "text/plain": [
       "       Grade\n",
       "11158      0\n",
       "51598     11\n",
       "58241      2"
      ]
     },
     "execution_count": 67,
     "metadata": {},
     "output_type": "execute_result"
    }
   ],
   "source": [
    "y_train.head(3)"
   ]
  },
  {
   "cell_type": "markdown",
   "metadata": {},
   "source": [
    "## scaling the dataset"
   ]
  },
  {
   "cell_type": "code",
   "execution_count": 68,
   "metadata": {},
   "outputs": [],
   "source": [
    "from sklearn.preprocessing import StandardScaler"
   ]
  },
  {
   "cell_type": "code",
   "execution_count": 69,
   "metadata": {},
   "outputs": [],
   "source": [
    "sc=StandardScaler()"
   ]
  },
  {
   "cell_type": "code",
   "execution_count": 70,
   "metadata": {},
   "outputs": [
    {
     "data": {
      "text/plain": [
       "array([[-1.13880367,  1.54248701, -1.14270066, ..., -1.23486342,\n",
       "         0.20103605,  0.11800211],\n",
       "       [ 1.00220877, -0.82878858,  0.99415847, ..., -0.00343599,\n",
       "         0.20103605,  0.11800211],\n",
       "       [ 1.35390872,  0.35684922,  1.35202876, ..., -1.23486342,\n",
       "         0.20103605,  0.11800211],\n",
       "       ...,\n",
       "       [ 0.52651647,  0.35684922,  0.54904978, ..., -0.00343599,\n",
       "         0.20103605,  0.11800211],\n",
       "       [ 0.57702403,  0.35684922,  0.60062166, ...,  1.22799144,\n",
       "         0.20103605,  0.11800211],\n",
       "       [-1.58490087, -0.82878858, -1.59817193, ..., -1.23486342,\n",
       "         0.20103605,  0.11800211]])"
      ]
     },
     "execution_count": 70,
     "metadata": {},
     "output_type": "execute_result"
    }
   ],
   "source": [
    "sc.fit_transform(x_train,y_train)"
   ]
  },
  {
   "cell_type": "markdown",
   "metadata": {},
   "source": [
    "## selecting features"
   ]
  },
  {
   "cell_type": "code",
   "execution_count": 71,
   "metadata": {},
   "outputs": [],
   "source": [
    "from sklearn.feature_selection import RFE"
   ]
  },
  {
   "cell_type": "code",
   "execution_count": 72,
   "metadata": {},
   "outputs": [],
   "source": [
    "from sklearn.ensemble import GradientBoostingClassifier"
   ]
  },
  {
   "cell_type": "code",
   "execution_count": 73,
   "metadata": {},
   "outputs": [],
   "source": [
    "from sklearn.ensemble import RandomForestClassifier\n",
    "from sklearn.metrics import r2_score\n",
    "reg=RandomForestClassifier()\n",
    "sel=RFE(GradientBoostingClassifier(n_estimators=100,random_state=0), n_features_to_select=12)\n"
   ]
  },
  {
   "cell_type": "code",
   "execution_count": 74,
   "metadata": {},
   "outputs": [
    {
     "name": "stderr",
     "output_type": "stream",
     "text": [
      "C:\\Users\\prpk1\\Anaconda3\\lib\\site-packages\\sklearn\\utils\\validation.py:724: DataConversionWarning: A column-vector y was passed when a 1d array was expected. Please change the shape of y to (n_samples, ), for example using ravel().\n",
      "  y = column_or_1d(y, warn=True)\n"
     ]
    },
    {
     "name": "stdout",
     "output_type": "stream",
     "text": [
      "Wall time: 20min 24s\n"
     ]
    },
    {
     "data": {
      "text/plain": [
       "RFE(estimator=GradientBoostingClassifier(criterion='friedman_mse', init=None,\n",
       "                                         learning_rate=0.1, loss='deviance',\n",
       "                                         max_depth=3, max_features=None,\n",
       "                                         max_leaf_nodes=None,\n",
       "                                         min_impurity_decrease=0.0,\n",
       "                                         min_impurity_split=None,\n",
       "                                         min_samples_leaf=1,\n",
       "                                         min_samples_split=2,\n",
       "                                         min_weight_fraction_leaf=0.0,\n",
       "                                         n_estimators=100,\n",
       "                                         n_iter_no_change=None, presort='auto',\n",
       "                                         random_state=0, subsample=1.0,\n",
       "                                         tol=0.0001, validation_fraction=0.1,\n",
       "                                         verbose=0, warm_start=False),\n",
       "    n_features_to_select=12, step=1, verbose=0)"
      ]
     },
     "execution_count": 74,
     "metadata": {},
     "output_type": "execute_result"
    }
   ],
   "source": [
    "%%time\n",
    "sel.fit(x_train,y_train)"
   ]
  },
  {
   "cell_type": "code",
   "execution_count": 75,
   "metadata": {},
   "outputs": [
    {
     "data": {
      "text/plain": [
       "array([ True,  True,  True,  True,  True,  True,  True,  True,  True,\n",
       "        True, False, False, False, False, False,  True, False, False,\n",
       "       False, False,  True, False])"
      ]
     },
     "execution_count": 75,
     "metadata": {},
     "output_type": "execute_result"
    }
   ],
   "source": [
    "sel.get_support()"
   ]
  },
  {
   "cell_type": "code",
   "execution_count": 76,
   "metadata": {},
   "outputs": [],
   "source": [
    "features=x_train.columns[sel.get_support()]"
   ]
  },
  {
   "cell_type": "markdown",
   "metadata": {},
   "source": [
    "## Random_forest"
   ]
  },
  {
   "cell_type": "code",
   "execution_count": 77,
   "metadata": {},
   "outputs": [],
   "source": [
    "\n",
    "from sklearn.ensemble import RandomForestClassifier\n",
    "reg=RandomForestClassifier()"
   ]
  },
  {
   "cell_type": "code",
   "execution_count": 78,
   "metadata": {},
   "outputs": [
    {
     "name": "stderr",
     "output_type": "stream",
     "text": [
      "C:\\Users\\prpk1\\Anaconda3\\lib\\site-packages\\sklearn\\ensemble\\forest.py:245: FutureWarning: The default value of n_estimators will change from 10 in version 0.20 to 100 in 0.22.\n",
      "  \"10 in version 0.20 to 100 in 0.22.\", FutureWarning)\n",
      "C:\\Users\\prpk1\\Anaconda3\\lib\\site-packages\\ipykernel_launcher.py:1: DataConversionWarning: A column-vector y was passed when a 1d array was expected. Please change the shape of y to (n_samples,), for example using ravel().\n",
      "  \"\"\"Entry point for launching an IPython kernel.\n"
     ]
    },
    {
     "data": {
      "text/plain": [
       "RandomForestClassifier(bootstrap=True, class_weight=None, criterion='gini',\n",
       "                       max_depth=None, max_features='auto', max_leaf_nodes=None,\n",
       "                       min_impurity_decrease=0.0, min_impurity_split=None,\n",
       "                       min_samples_leaf=1, min_samples_split=2,\n",
       "                       min_weight_fraction_leaf=0.0, n_estimators=10,\n",
       "                       n_jobs=None, oob_score=False, random_state=None,\n",
       "                       verbose=0, warm_start=False)"
      ]
     },
     "execution_count": 78,
     "metadata": {},
     "output_type": "execute_result"
    }
   ],
   "source": [
    "reg.fit(x_train[features],y_train)"
   ]
  },
  {
   "cell_type": "code",
   "execution_count": 79,
   "metadata": {},
   "outputs": [],
   "source": [
    "y_pred=reg.predict(x_train[features])"
   ]
  },
  {
   "cell_type": "code",
   "execution_count": 80,
   "metadata": {},
   "outputs": [],
   "source": [
    "from sklearn.metrics import r2_score\n"
   ]
  },
  {
   "cell_type": "code",
   "execution_count": 84,
   "metadata": {},
   "outputs": [
    {
     "name": "stdout",
     "output_type": "stream",
     "text": [
      "so the total accuracy % :-\n"
     ]
    },
    {
     "data": {
      "text/plain": [
       "97.68690126522462"
      ]
     },
     "execution_count": 84,
     "metadata": {},
     "output_type": "execute_result"
    }
   ],
   "source": [
    "print( \"so the total accuracy % :-\")\n",
    "r2_score(y_pred,y_train)*100\n"
   ]
  },
  {
   "cell_type": "markdown",
   "metadata": {},
   "source": [
    "## KNN-ALGO"
   ]
  },
  {
   "cell_type": "code",
   "execution_count": 120,
   "metadata": {},
   "outputs": [],
   "source": [
    "from sklearn.neighbors import KNeighborsClassifier"
   ]
  },
  {
   "cell_type": "code",
   "execution_count": 121,
   "metadata": {},
   "outputs": [],
   "source": [
    "km=KNeighborsClassifier(n_neighbors=100)"
   ]
  },
  {
   "cell_type": "code",
   "execution_count": 122,
   "metadata": {},
   "outputs": [
    {
     "name": "stderr",
     "output_type": "stream",
     "text": [
      "C:\\Users\\prpk1\\Anaconda3\\lib\\site-packages\\ipykernel_launcher.py:1: DataConversionWarning: A column-vector y was passed when a 1d array was expected. Please change the shape of y to (n_samples, ), for example using ravel().\n",
      "  \"\"\"Entry point for launching an IPython kernel.\n"
     ]
    },
    {
     "data": {
      "text/plain": [
       "KNeighborsClassifier(algorithm='auto', leaf_size=30, metric='minkowski',\n",
       "                     metric_params=None, n_jobs=None, n_neighbors=100, p=2,\n",
       "                     weights='uniform')"
      ]
     },
     "execution_count": 122,
     "metadata": {},
     "output_type": "execute_result"
    }
   ],
   "source": [
    "km.fit(x_train[features],y_train)"
   ]
  },
  {
   "cell_type": "code",
   "execution_count": 123,
   "metadata": {},
   "outputs": [],
   "source": [
    "y_pred=km.predict(x_train[features])"
   ]
  },
  {
   "cell_type": "code",
   "execution_count": 124,
   "metadata": {},
   "outputs": [
    {
     "name": "stdout",
     "output_type": "stream",
     "text": [
      "so the total accuracy % :-\n"
     ]
    },
    {
     "data": {
      "text/plain": [
       "-243.88269345129504"
      ]
     },
     "execution_count": 124,
     "metadata": {},
     "output_type": "execute_result"
    }
   ],
   "source": [
    "print( \"so the total accuracy % :-\")\n",
    "r2_score(y_pred,y_train)*100"
   ]
  },
  {
   "cell_type": "markdown",
   "metadata": {},
   "source": [
    "## polynomial Features"
   ]
  },
  {
   "cell_type": "code",
   "execution_count": 125,
   "metadata": {},
   "outputs": [],
   "source": [
    "from sklearn.preprocessing import PolynomialFeatures"
   ]
  },
  {
   "cell_type": "code",
   "execution_count": 128,
   "metadata": {},
   "outputs": [],
   "source": [
    "py=PolynomialFeatures( degree=3)"
   ]
  },
  {
   "cell_type": "code",
   "execution_count": 137,
   "metadata": {},
   "outputs": [],
   "source": [
    "x_poly=py.fit_transform(x_train[features])"
   ]
  },
  {
   "cell_type": "code",
   "execution_count": 138,
   "metadata": {},
   "outputs": [],
   "source": [
    "from sklearn.linear_model import LinearRegression"
   ]
  },
  {
   "cell_type": "code",
   "execution_count": 139,
   "metadata": {},
   "outputs": [],
   "source": [
    "lr=LinearRegression()"
   ]
  },
  {
   "cell_type": "code",
   "execution_count": 140,
   "metadata": {},
   "outputs": [
    {
     "data": {
      "text/plain": [
       "LinearRegression(copy_X=True, fit_intercept=True, n_jobs=None, normalize=False)"
      ]
     },
     "execution_count": 140,
     "metadata": {},
     "output_type": "execute_result"
    }
   ],
   "source": [
    "lr.fit(x_poly,y_train)"
   ]
  },
  {
   "cell_type": "code",
   "execution_count": 141,
   "metadata": {},
   "outputs": [],
   "source": [
    "x=lr.predict(x_poly)"
   ]
  },
  {
   "cell_type": "code",
   "execution_count": 142,
   "metadata": {},
   "outputs": [
    {
     "name": "stdout",
     "output_type": "stream",
     "text": [
      "so the total accuracy % :-\n"
     ]
    },
    {
     "data": {
      "text/plain": [
       "-107.29295097900442"
      ]
     },
     "execution_count": 142,
     "metadata": {},
     "output_type": "execute_result"
    }
   ],
   "source": [
    "print( \"so the total accuracy % :-\")\n",
    "r2_score(x,y_train)*100"
   ]
  },
  {
   "cell_type": "markdown",
   "metadata": {},
   "source": [
    "## svm"
   ]
  },
  {
   "cell_type": "code",
   "execution_count": 143,
   "metadata": {},
   "outputs": [],
   "source": [
    "from sklearn.svm import SVC"
   ]
  },
  {
   "cell_type": "code",
   "execution_count": 145,
   "metadata": {},
   "outputs": [],
   "source": [
    "s=SVC()"
   ]
  },
  {
   "cell_type": "code",
   "execution_count": 146,
   "metadata": {},
   "outputs": [
    {
     "name": "stderr",
     "output_type": "stream",
     "text": [
      "C:\\Users\\prpk1\\Anaconda3\\lib\\site-packages\\sklearn\\utils\\validation.py:724: DataConversionWarning: A column-vector y was passed when a 1d array was expected. Please change the shape of y to (n_samples, ), for example using ravel().\n",
      "  y = column_or_1d(y, warn=True)\n",
      "C:\\Users\\prpk1\\Anaconda3\\lib\\site-packages\\sklearn\\svm\\base.py:193: FutureWarning: The default value of gamma will change from 'auto' to 'scale' in version 0.22 to account better for unscaled features. Set gamma explicitly to 'auto' or 'scale' to avoid this warning.\n",
      "  \"avoid this warning.\", FutureWarning)\n"
     ]
    },
    {
     "data": {
      "text/plain": [
       "SVC(C=1.0, cache_size=200, class_weight=None, coef0=0.0,\n",
       "    decision_function_shape='ovr', degree=3, gamma='auto_deprecated',\n",
       "    kernel='rbf', max_iter=-1, probability=False, random_state=None,\n",
       "    shrinking=True, tol=0.001, verbose=False)"
      ]
     },
     "execution_count": 146,
     "metadata": {},
     "output_type": "execute_result"
    }
   ],
   "source": [
    "s.fit(x_train,y_train)"
   ]
  },
  {
   "cell_type": "code",
   "execution_count": 149,
   "metadata": {},
   "outputs": [],
   "source": [
    "x=s.predict(x_train)"
   ]
  },
  {
   "cell_type": "code",
   "execution_count": 150,
   "metadata": {},
   "outputs": [
    {
     "name": "stdout",
     "output_type": "stream",
     "text": [
      "so the total accuracy % :-\n"
     ]
    },
    {
     "data": {
      "text/plain": [
       "100.0"
      ]
     },
     "execution_count": 150,
     "metadata": {},
     "output_type": "execute_result"
    }
   ],
   "source": [
    "print( \"so the total accuracy % :-\")\n",
    "r2_score(x,y_train)*100"
   ]
  },
  {
   "cell_type": "code",
   "execution_count": null,
   "metadata": {},
   "outputs": [],
   "source": []
  },
  {
   "cell_type": "code",
   "execution_count": null,
   "metadata": {},
   "outputs": [],
   "source": []
  },
  {
   "cell_type": "code",
   "execution_count": null,
   "metadata": {},
   "outputs": [],
   "source": []
  }
 ],
 "metadata": {
  "kernelspec": {
   "display_name": "Python 3",
   "language": "python",
   "name": "python3"
  },
  "language_info": {
   "codemirror_mode": {
    "name": "ipython",
    "version": 3
   },
   "file_extension": ".py",
   "mimetype": "text/x-python",
   "name": "python",
   "nbconvert_exporter": "python",
   "pygments_lexer": "ipython3",
   "version": "3.7.3"
  }
 },
 "nbformat": 4,
 "nbformat_minor": 2
}
