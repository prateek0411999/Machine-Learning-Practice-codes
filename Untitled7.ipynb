{
 "cells": [
  {
   "cell_type": "code",
   "execution_count": 1,
   "metadata": {},
   "outputs": [
    {
     "ename": "NameError",
     "evalue": "name 'urllib2' is not defined",
     "output_type": "error",
     "traceback": [
      "\u001b[1;31m---------------------------------------------------------------------------\u001b[0m",
      "\u001b[1;31mNameError\u001b[0m                                 Traceback (most recent call last)",
      "\u001b[1;32m<ipython-input-1-275f97807a09>\u001b[0m in \u001b[0;36m<module>\u001b[1;34m\u001b[0m\n\u001b[0;32m      2\u001b[0m \u001b[1;32mfrom\u001b[0m \u001b[0mbs4\u001b[0m \u001b[1;32mimport\u001b[0m \u001b[0mBeautifulSoup\u001b[0m\u001b[1;33m\u001b[0m\u001b[1;33m\u001b[0m\u001b[0m\n\u001b[0;32m      3\u001b[0m \u001b[1;33m\u001b[0m\u001b[0m\n\u001b[1;32m----> 4\u001b[1;33m \u001b[0mpage\u001b[0m \u001b[1;33m=\u001b[0m \u001b[0murllib2\u001b[0m\u001b[1;33m.\u001b[0m\u001b[0murlopen\u001b[0m\u001b[1;33m(\u001b[0m\u001b[0mraw_input\u001b[0m\u001b[1;33m(\u001b[0m\u001b[1;34m\"Enter URL: \"\u001b[0m\u001b[1;33m)\u001b[0m\u001b[1;33m)\u001b[0m\u001b[1;33m\u001b[0m\u001b[1;33m\u001b[0m\u001b[0m\n\u001b[0m\u001b[0;32m      5\u001b[0m \u001b[0msoup\u001b[0m \u001b[1;33m=\u001b[0m \u001b[0mBeautifulSoup\u001b[0m\u001b[1;33m(\u001b[0m\u001b[0mpage\u001b[0m\u001b[1;33m,\u001b[0m \u001b[1;34m\"html.parser\"\u001b[0m\u001b[1;33m)\u001b[0m\u001b[1;33m\u001b[0m\u001b[1;33m\u001b[0m\u001b[0m\n\u001b[0;32m      6\u001b[0m \u001b[1;33m\u001b[0m\u001b[0m\n",
      "\u001b[1;31mNameError\u001b[0m: name 'urllib2' is not defined"
     ]
    }
   ],
   "source": [
    "import urllib.request\n",
    "from bs4 import BeautifulSoup\n",
    "\n",
    "page = urllib2.urlopen(raw_input(\"Enter URL: \"))\n",
    "soup = BeautifulSoup(page, \"html.parser\")\n",
    "\n",
    "spans = soup('span')\n",
    "\n",
    "numbers = []\n",
    "\n",
    "for span in spans:\n",
    "    numbers.append(int(span.string))\n",
    "n=len(numbers)\n",
    "ans=_sum(numbers,n)\n",
    "print(ans)"
   ]
  },
  {
   "cell_type": "code",
   "execution_count": 4,
   "metadata": {},
   "outputs": [
    {
     "name": "stdout",
     "output_type": "stream",
     "text": [
      "Requirement already satisfied: ipython-beautifulsoup[bs4] in c:\\users\\prate\\anaconda3\\lib\\site-packages (0.3)\n",
      "Requirement already satisfied: beautifulsoup4 in c:\\users\\prate\\anaconda3\\lib\\site-packages (from ipython-beautifulsoup[bs4]) (4.7.1)\n",
      "Requirement already satisfied: ipython in c:\\users\\prate\\anaconda3\\lib\\site-packages (from ipython-beautifulsoup[bs4]) (7.6.1)\n",
      "Requirement already satisfied: pygments in c:\\users\\prate\\anaconda3\\lib\\site-packages (from ipython-beautifulsoup[bs4]) (2.4.2)\n",
      "Requirement already satisfied: soupsieve>=1.2 in c:\\users\\prate\\anaconda3\\lib\\site-packages (from beautifulsoup4->ipython-beautifulsoup[bs4]) (1.8)\n",
      "Requirement already satisfied: decorator in c:\\users\\prate\\anaconda3\\lib\\site-packages (from ipython->ipython-beautifulsoup[bs4]) (4.4.0)\n",
      "Requirement already satisfied: jedi>=0.10 in c:\\users\\prate\\anaconda3\\lib\\site-packages (from ipython->ipython-beautifulsoup[bs4]) (0.13.3)\n",
      "Requirement already satisfied: backcall in c:\\users\\prate\\anaconda3\\lib\\site-packages (from ipython->ipython-beautifulsoup[bs4]) (0.1.0)\n",
      "Requirement already satisfied: colorama; sys_platform == \"win32\" in c:\\users\\prate\\anaconda3\\lib\\site-packages (from ipython->ipython-beautifulsoup[bs4]) (0.4.1)\n",
      "Requirement already satisfied: setuptools>=18.5 in c:\\users\\prate\\anaconda3\\lib\\site-packages (from ipython->ipython-beautifulsoup[bs4]) (41.0.1)\n",
      "Requirement already satisfied: traitlets>=4.2 in c:\\users\\prate\\anaconda3\\lib\\site-packages (from ipython->ipython-beautifulsoup[bs4]) (4.3.2)\n",
      "Requirement already satisfied: prompt-toolkit<2.1.0,>=2.0.0 in c:\\users\\prate\\anaconda3\\lib\\site-packages (from ipython->ipython-beautifulsoup[bs4]) (2.0.9)\n",
      "Requirement already satisfied: pickleshare in c:\\users\\prate\\anaconda3\\lib\\site-packages (from ipython->ipython-beautifulsoup[bs4]) (0.7.5)\n",
      "Requirement already satisfied: parso>=0.3.0 in c:\\users\\prate\\anaconda3\\lib\\site-packages (from jedi>=0.10->ipython->ipython-beautifulsoup[bs4]) (0.5.0)\n",
      "Requirement already satisfied: ipython-genutils in c:\\users\\prate\\anaconda3\\lib\\site-packages (from traitlets>=4.2->ipython->ipython-beautifulsoup[bs4]) (0.2.0)\n",
      "Requirement already satisfied: six in c:\\users\\prate\\anaconda3\\lib\\site-packages (from traitlets>=4.2->ipython->ipython-beautifulsoup[bs4]) (1.12.0)\n",
      "Requirement already satisfied: wcwidth in c:\\users\\prate\\anaconda3\\lib\\site-packages (from prompt-toolkit<2.1.0,>=2.0.0->ipython->ipython-beautifulsoup[bs4]) (0.1.7)\n",
      "Note: you may need to restart the kernel to use updated packages.\n"
     ]
    }
   ],
   "source": [
    "pip install \"ipython-beautifulsoup[bs4]\"\n"
   ]
  },
  {
   "cell_type": "code",
   "execution_count": null,
   "metadata": {},
   "outputs": [],
   "source": []
  }
 ],
 "metadata": {
  "kernelspec": {
   "display_name": "Python 3",
   "language": "python",
   "name": "python3"
  },
  "language_info": {
   "codemirror_mode": {
    "name": "ipython",
    "version": 3
   },
   "file_extension": ".py",
   "mimetype": "text/x-python",
   "name": "python",
   "nbconvert_exporter": "python",
   "pygments_lexer": "ipython3",
   "version": "3.7.3"
  }
 },
 "nbformat": 4,
 "nbformat_minor": 2
}
