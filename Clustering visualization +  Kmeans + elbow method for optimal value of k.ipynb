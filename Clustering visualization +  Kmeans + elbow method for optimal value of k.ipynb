{
 "cells": [
  {
   "cell_type": "code",
   "execution_count": 2,
   "metadata": {},
   "outputs": [],
   "source": [
    "#UNIT- 4 CLUSTERING\n",
    "from sklearn.datasets import make_blobs\n",
    "X,Y=make_blobs(n_samples=150,n_features=2,centers=3,cluster_std=0.5)\n",
    "# total samples apne paas 150 hh, cluster ka standard deviation apan ne 0.5 lia hh,  jo apan samples create kr rhe vo 3 centers k aas paas scatter hoge tabhi center =3 liya hh jese 50 samples 1 center p another samples on another center. \n"
   ]
  },
  {
   "cell_type": "code",
   "execution_count": 3,
   "metadata": {},
   "outputs": [
    {
     "name": "stdout",
     "output_type": "stream",
     "text": [
      "[[ 5.94285634  2.32638317]\n",
      " [ 8.56688063 -7.23990274]\n",
      " [ 7.16335729 -7.54347703]\n",
      " [ 5.90443234  2.46973905]\n",
      " [ 5.13848737  2.62403514]\n",
      " [ 7.60407937 -6.82533059]\n",
      " [-5.6260027  -5.83702923]\n",
      " [-4.90385079 -5.39040492]\n",
      " [ 5.06110876  1.67402247]\n",
      " [ 8.56074535 -7.57114781]\n",
      " [-4.56674327 -5.40178268]\n",
      " [ 4.94424417  2.73135512]\n",
      " [ 8.39352949 -7.3090773 ]\n",
      " [ 5.64767761  2.40898061]\n",
      " [ 4.78462185  2.14966262]\n",
      " [-4.75945405 -4.9029735 ]\n",
      " [ 7.43498934 -7.97931367]\n",
      " [-4.71543069 -5.99368371]\n",
      " [-5.24232221 -5.80408224]\n",
      " [ 8.37356841 -7.85912636]\n",
      " [ 8.11464785 -8.4757862 ]\n",
      " [ 8.07314693 -7.15516322]\n",
      " [ 5.0088187   2.36643402]\n",
      " [-4.45118881 -5.52110263]\n",
      " [-4.78293894 -5.25920873]\n",
      " [-5.83876865 -4.9726249 ]\n",
      " [-4.26416908 -5.57974614]\n",
      " [ 8.3030722  -7.09487848]\n",
      " [-4.55489179 -4.72799005]\n",
      " [ 8.12227922 -8.01360358]\n",
      " [ 8.67430711 -5.97972839]\n",
      " [ 7.8902229  -7.05776971]\n",
      " [ 5.31453301  2.40709952]\n",
      " [-4.95621796 -4.30174254]\n",
      " [-4.49660562 -5.87686472]\n",
      " [ 5.31608646  2.20169122]\n",
      " [ 8.86476819 -7.97425651]\n",
      " [ 5.38386479  1.13080538]\n",
      " [ 5.72897695  2.58797049]\n",
      " [ 4.4799306   2.44147148]\n",
      " [ 6.61875004 -7.31225812]\n",
      " [ 5.13407129  2.48417866]\n",
      " [-5.20775547 -5.5612264 ]\n",
      " [ 8.6707655  -7.88669385]\n",
      " [ 7.82899652 -7.54459502]\n",
      " [ 5.62776805  2.23656927]\n",
      " [-5.2599961  -6.14726516]\n",
      " [-5.34304632 -5.00420209]\n",
      " [-5.3155899  -5.56463534]\n",
      " [ 6.04576378  0.72075447]\n",
      " [ 4.56142034  2.47046037]\n",
      " [-4.98411802 -6.01578362]\n",
      " [ 4.77058094  3.13661234]\n",
      " [-4.65961234 -5.43363861]\n",
      " [-5.24052183 -5.32240857]\n",
      " [ 7.75335036 -7.21947726]\n",
      " [ 7.39649811 -7.7132924 ]\n",
      " [ 8.50813734 -8.03188356]\n",
      " [ 4.64982517  2.79170983]\n",
      " [ 8.2866502  -7.56229292]\n",
      " [ 7.98896205 -7.56088689]\n",
      " [-4.96062561 -5.45345335]\n",
      " [-4.7246143  -5.21402101]\n",
      " [ 8.82001706 -8.78949003]\n",
      " [-5.18409276 -5.69685882]\n",
      " [-4.5979383  -4.65715479]\n",
      " [-4.99390563 -4.58520261]\n",
      " [ 8.18652743 -7.62801464]\n",
      " [-5.08322274 -5.80144458]\n",
      " [ 8.25959587 -7.81371754]\n",
      " [ 8.62687789 -7.36988938]\n",
      " [ 8.26207192 -7.67915915]\n",
      " [ 5.48598113  1.48392647]\n",
      " [-4.34536259 -5.75703922]\n",
      " [-4.96185265 -5.47116939]\n",
      " [ 4.7809769   3.04321392]\n",
      " [ 5.98495533  2.15989962]\n",
      " [ 5.58470212  1.46777523]\n",
      " [ 7.93990651 -6.85800614]\n",
      " [ 7.78308579 -7.12546324]\n",
      " [ 8.36546746 -7.37222293]\n",
      " [ 4.75293075  3.26382058]\n",
      " [ 5.72370077  2.17906468]\n",
      " [ 8.65275594 -8.66643187]\n",
      " [ 8.16673949 -7.42551517]\n",
      " [ 5.56209136  0.8039713 ]\n",
      " [-4.3146257  -5.49390588]\n",
      " [-4.26071985 -5.28596099]\n",
      " [ 7.72047285 -7.96664744]\n",
      " [ 5.60241302  2.13941851]\n",
      " [ 5.99045003  2.37929047]\n",
      " [-5.2105364  -5.28384653]\n",
      " [-4.47878886 -5.35242568]\n",
      " [ 8.74038948 -8.16856379]\n",
      " [ 8.61719587 -7.36536411]\n",
      " [-4.65531283 -6.00207424]\n",
      " [-4.61152152 -5.51602976]\n",
      " [-5.31927624 -5.30979257]\n",
      " [-4.80198661 -5.49226462]\n",
      " [-5.02334261 -5.20384787]\n",
      " [ 5.35138979  2.41106063]\n",
      " [ 4.97219319  1.05297554]\n",
      " [ 8.40295    -7.55313191]\n",
      " [ 5.71605906  2.30410728]\n",
      " [ 7.81829079 -7.42319317]\n",
      " [ 5.45301104  2.05131192]\n",
      " [ 8.24539318 -7.40962355]\n",
      " [ 5.72766009  2.07817544]\n",
      " [-5.68842034 -5.30552479]\n",
      " [-4.86103066 -5.13930955]\n",
      " [-4.9708303  -5.52736728]\n",
      " [-4.11309485 -5.46148397]\n",
      " [ 8.50991    -7.64843398]\n",
      " [ 7.68452345 -7.21268778]\n",
      " [ 8.49066768 -7.43358363]\n",
      " [ 8.78596708 -6.80569692]\n",
      " [-5.20259361 -5.66754449]\n",
      " [-4.96859981 -5.8368593 ]\n",
      " [ 4.92688504  1.38941084]\n",
      " [ 8.36697816 -8.0361009 ]\n",
      " [-4.62487274 -4.9113537 ]\n",
      " [ 5.15644804  2.28993345]\n",
      " [ 4.87688332  1.79395335]\n",
      " [ 7.74921827 -7.5959495 ]\n",
      " [ 9.26075555 -7.84613078]\n",
      " [ 5.04408893  2.05729075]\n",
      " [ 5.22653584  2.30108951]\n",
      " [ 5.12097815  2.600329  ]\n",
      " [ 5.81253068  2.13548403]\n",
      " [ 6.10987995  2.28139834]\n",
      " [-5.7152775  -5.70293451]\n",
      " [-5.58230658 -4.97501126]\n",
      " [-5.66518438 -6.28647269]\n",
      " [ 4.35745984  2.24799726]\n",
      " [ 5.04529694  1.08059276]\n",
      " [ 6.17597422  2.22571538]\n",
      " [ 7.94506502 -7.29900456]\n",
      " [ 7.71396752 -6.46932114]\n",
      " [-5.09978943 -5.84680558]\n",
      " [ 5.69779093  1.41942592]\n",
      " [ 6.43010168  3.31241954]\n",
      " [ 5.7559196   2.10326247]\n",
      " [ 8.1776381  -7.78509188]\n",
      " [ 8.59770152 -7.9221139 ]\n",
      " [ 6.07083769  2.44631771]\n",
      " [-5.7506274  -5.57491142]\n",
      " [ 6.15779589  1.68598064]\n",
      " [ 8.05131451 -7.12279235]\n",
      " [-3.92870273 -5.37835473]\n",
      " [ 5.81522825  1.73220276]] [2 0 0 2 2 0 1 1 2 0 1 2 0 2 2 1 0 1 1 0 0 0 2 1 1 1 1 0 1 0 0 0 2 1 1 2 0\n",
      " 2 2 2 0 2 1 0 0 2 1 1 1 2 2 1 2 1 1 0 0 0 2 0 0 1 1 0 1 1 1 0 1 0 0 0 2 1\n",
      " 1 2 2 2 0 0 0 2 2 0 0 2 1 1 0 2 2 1 1 0 0 1 1 1 1 1 2 2 0 2 0 2 0 2 1 1 1\n",
      " 1 0 0 0 0 1 1 2 0 1 2 2 0 0 2 2 2 2 2 1 1 1 2 2 2 0 0 1 2 2 2 0 0 2 1 2 0\n",
      " 1 2]\n"
     ]
    }
   ],
   "source": [
    "print(X,Y)"
   ]
  },
  {
   "cell_type": "code",
   "execution_count": 10,
   "metadata": {},
   "outputs": [
    {
     "data": {
      "image/png": "[encoded data removed]",
      "text/plain": [
       "<Figure size 432x288 with 1 Axes>"
      ]
     },
     "metadata": {
      "needs_background": "light"
     },
     "output_type": "display_data"
    }
   ],
   "source": [
    "#apan ab scatter points ko plot krenge apan ko training data plot krte hh i.e X so apan ne scatter function m phele sari X values with 1st feature that is why we have written 0   with X values for feature 2 i.e 1\n",
    "import matplotlib.pyplot as plt\n",
    "plt.scatter(X[:,0],X[:,1],marker='o')\n",
    "plt.grid()\n",
    "plt.show()"
   ]
  },
  {
   "cell_type": "code",
   "execution_count": 12,
   "metadata": {},
   "outputs": [],
   "source": [
    "#ab apan KNN algorithm lagaeyge\n",
    "from sklearn.cluster import KMeans\n",
    "km=KMeans(n_clusters=2,max_iter=100,tol=0.0001) #tolerance value is tol, centroid ki value agar 0.0001 ho jaeygi toh aage iterate nhi krege i.e. we'll stop out algorithm \n",
    "y_km=km.fit_predict(X)\n",
    "#apan ne n_cluster 2 liye tabhi apan k paas fir utne hi bar hme cluster or X k features ko map krna padega\n",
    "#jese ab apan 2 bar krege kyuki 2 cluster bnege predict ki hui values se or 2 hi apne features hh datatset k .\n",
    "\n",
    "#Y_km i.e predict k values bhi 2 cluster m hh  toh apan fir plot krege X & y_km k 1st features or cluster  ko i.e. 0 aur Y_km k 1st cluster i.e. 0 and X k 2nd features i.e. 1\n",
    "#fir same apan y_km k 2nd cluster k sath X k features plot krege\n"
   ]
  },
  {
   "cell_type": "code",
   "execution_count": 21,
   "metadata": {},
   "outputs": [
    {
     "data": {
      "image/png": "[encoded data removed]",
      "text/plain": [
       "<Figure size 432x288 with 1 Axes>"
      ]
     },
     "metadata": {
      "needs_background": "light"
     },
     "output_type": "display_data"
    }
   ],
   "source": [
    "# fir apan ne dono kiya \n",
    "plt.scatter(X[y_km==0,0],X[y_km==0,1],c='red',marker='s',label='Cluster1')\n",
    "plt.scatter(X[y_km==1,0],X[y_km==1,1],c='green',marker='*',label='Cluster2')\n",
    "plt.legend()ko sath plot \n",
    "plt.grid()\n",
    "plt.show()"
   ]
  },
  {
   "cell_type": "code",
   "execution_count": 26,
   "metadata": {},
   "outputs": [
    {
     "name": "stdout",
     "output_type": "stream",
     "text": [
      "DISTORTION:  27.64411857733258\n"
     ]
    }
   ],
   "source": [
    "print(\"DISTORTION: \",km.inertia_)"
   ]
  },
  {
   "cell_type": "markdown",
   "metadata": {},
   "source": [
    "### ELBOW METHOD FOR FINDING OPTIMAL VALUE FOR K\n",
    "\n"
   ]
  },
  {
   "cell_type": "code",
   "execution_count": 25,
   "metadata": {},
   "outputs": [
    {
     "name": "stdout",
     "output_type": "stream",
     "text": [
      "7443.271369270893\n",
      "2607.9173885079877\n",
      "71.71219427427499\n",
      "60.69718618605484\n",
      "50.973651819161844\n",
      "42.521665008652576\n",
      "35.180739249119775\n",
      "30.98726225652065\n",
      "27.64411857733258\n"
     ]
    },
    {
     "data": {
      "image/png": "[encoded data removed]",
      "text/plain": [
       "<Figure size 432x288 with 1 Axes>"
      ]
     },
     "metadata": {
      "needs_background": "light"
     },
     "output_type": "display_data"
    }
   ],
   "source": [
    "#ELBOW METHOD FOR FINDING OPTIMAL VALUE OF K\n",
    "from sklearn.cluster import KMeans\n",
    "import numpy as np\n",
    "\n",
    "distortion=[]\n",
    "\n",
    "for i in range(1,10,1):\n",
    "    km=KMeans(n_clusters=i)\n",
    "    y_km=km.fit_predict(X)\n",
    "    distortion.append(km.inertia_)\n",
    "    print(km.inertia_)\n",
    "\n",
    "a=np.arange(1,10,1)\n",
    "plt.plot(a,distortion)\n",
    "plt.grid()\n",
    "plt.show()\n",
    "\n",
    "\n"
   ]
  },
  {
   "cell_type": "markdown",
   "metadata": {},
   "source": [
    "#### K ki optimal value 3 hogi as 3 k baad sab linear hi hh i.e. sab aas paas hi hh values \n"
   ]
  },
  {
   "cell_type": "code",
   "execution_count": 34,
   "metadata": {},
   "outputs": [
    {
     "name": "stdout",
     "output_type": "stream",
     "text": [
      "0.37314140829624637\n"
     ]
    }
   ],
   "source": [
    "from sklearn.metrics import silhouette_score\n",
    "print(silhouette_score(X,y_km))"
   ]
  },
  {
   "cell_type": "code",
   "execution_count": 45,
   "metadata": {},
   "outputs": [],
   "source": [
    "#NOW WE'LL DO THE SAME WITH IRIS DATASET\n",
    "from sklearn.datasets import load_iris\n",
    "import pandas as pd\n",
    "df=load_iris()\n",
    "data=df[\"data\"]\n",
    "target=df[\"target\"]\n",
    "\n",
    "\n"
   ]
  },
  {
   "cell_type": "code",
   "execution_count": null,
   "metadata": {},
   "outputs": [],
   "source": []
  },
  {
   "cell_type": "code",
   "execution_count": null,
   "metadata": {},
   "outputs": [],
   "source": []
  }
 ],
 "metadata": {
  "kernelspec": {
   "display_name": "Python 3",
   "language": "python",
   "name": "python3"
  },
  "language_info": {
   "codemirror_mode": {
    "name": "ipython",
    "version": 3
   },
   "file_extension": ".py",
   "mimetype": "text/x-python",
   "name": "python",
   "nbconvert_exporter": "python",
   "pygments_lexer": "ipython3",
   "version": "3.7.3"
  }
 },
 "nbformat": 4,
 "nbformat_minor": 2
}
